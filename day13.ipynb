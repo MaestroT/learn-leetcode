{
 "cells": [
  {
   "cell_type": "markdown",
   "source": [
    "## Merge Two Sorted Lists\n",
    "Merge two sorted linked lists and return it as a new list. The new list should be made by splicing together the nodes of the first two lists.\n",
    "\n",
    "- input 1-2-4, 1-3-4\n",
    "- output 1-1-2-3-4-4"
   ],
   "metadata": {}
  },
  {
   "cell_type": "code",
   "execution_count": null,
   "source": [
    "class ListNode:\n",
    "    def __init__(self, x):\n",
    "        self.val = x\n",
    "        self.next = None\n",
    "\n",
    "def merge(l1, l2):\n",
    "    curr = dummy = ListNode(0)\n",
    "\n",
    "    while l1 and l2:\n",
    "        if l1.val < l2.val:\n",
    "            curr.next = l1\n",
    "            l1 = l1.next\n",
    "        else:\n",
    "            curr.next = l2\n",
    "            l2 = l2.next\n",
    "        curr = curr.next\n",
    "    curr.next = l1 or l2\n",
    "\n",
    "    return dummy.next\n"
   ],
   "outputs": [],
   "metadata": {}
  }
 ],
 "metadata": {
  "orig_nbformat": 4,
  "language_info": {
   "name": "python",
   "version": "3.8.2"
  },
  "kernelspec": {
   "name": "python3",
   "display_name": "Python 3.8.2 64-bit"
  },
  "interpreter": {
   "hash": "31f2aee4e71d21fbe5cf8b01ff0e069b9275f58929596ceb00d14d90e3e16cd6"
  }
 },
 "nbformat": 4,
 "nbformat_minor": 2
}