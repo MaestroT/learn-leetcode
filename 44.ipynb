{
 "cells": [
  {
   "cell_type": "markdown",
   "metadata": {},
   "source": [
    "## 44. 通配符匹配\n",
    "给定一个字符串 (s) 和一个字符模式 (p) ，实现一个支持 '?' 和 '*' 的通配符匹配。\n",
    "\n",
    "'?' 可以匹配任何单个字符。\n",
    "'*' 可以匹配任意字符串（包括空字符串）。\n",
    "两个字符串完全匹配才算匹配成功。\n",
    "\n",
    "说明:\n",
    "\n",
    "s 可能为空，且只包含从 a-z 的小写字母。\n",
    "p 可能为空，且只包含从 a-z 的小写字母，以及字符 ? 和 *。\n",
    "示例 1:\n",
    "\n",
    "输入:\n",
    "s = \"aa\"\n",
    "p = \"a\"\n",
    "输出: false\n",
    "解释: \"a\" 无法匹配 \"aa\" 整个字符串。\n",
    "示例 2:\n",
    "\n",
    "输入:\n",
    "s = \"aa\"\n",
    "p = \"*\"\n",
    "输出: true\n",
    "解释: '*' 可以匹配任意字符串。\n",
    "示例 3:\n",
    "\n",
    "输入:\n",
    "s = \"cb\"\n",
    "p = \"?a\"\n",
    "输出: false\n",
    "解释: '?' 可以匹配 'c', 但第二个 'a' 无法匹配 'b'。\n",
    "示例 4:\n",
    "\n",
    "输入:\n",
    "s = \"adceb\"\n",
    "p = \"*a*b\"\n",
    "输出: true\n",
    "解释: 第一个 '*' 可以匹配空字符串, 第二个 '*' 可以匹配字符串 \"dce\".\n",
    "示例 5:\n",
    "\n",
    "输入:\n",
    "s = \"acdcb\"\n",
    "p = \"a*c?b\"\n",
    "输出: false\n",
    "\n",
    "来源：力扣（LeetCode）\n",
    "链接：https://leetcode-cn.com/problems/wildcard-matching"
   ]
  },
  {
   "cell_type": "code",
   "execution_count": null,
   "metadata": {},
   "outputs": [],
   "source": [
    "class Solution:\n",
    "    def isMatch(self, s: str, p: str) -> bool:\n",
    "        cache = [-1, -1]\n",
    "        p_ptr, s_ptr = 0, 0\n",
    "        while s_ptr < len(s):\n",
    "            if p_ptr < len(p) and p[p_ptr] in (s[s_ptr], '*', '?'):\n",
    "                if p[p_ptr] == '*':\n",
    "                    cache[0], cache[1] = p_ptr, s_ptr\n",
    "                else:\n",
    "                    s_ptr+=1\n",
    "                p_ptr+=1\n",
    "            elif cache[0] != -1:\n",
    "                p_ptr, s_ptr = cache[0]+1, cache[1]+1\n",
    "                cache[1]+=1\n",
    "            else:\n",
    "                return False\n",
    "        while p_ptr<len(p) and p[p_ptr] == '*':\n",
    "            p_ptr+=1\n",
    "        return (p_ptr==len(p))\n"
   ]
  }
 ],
 "metadata": {
  "interpreter": {
   "hash": "40d3a090f54c6569ab1632332b64b2c03c39dcf918b08424e98f38b5ae0af88f"
  },
  "kernelspec": {
   "display_name": "Python 3.8.8 64-bit ('base': conda)",
   "language": "python",
   "name": "python3"
  },
  "language_info": {
   "name": "python",
   "version": "3.8.8"
  },
  "orig_nbformat": 4
 },
 "nbformat": 4,
 "nbformat_minor": 2
}
