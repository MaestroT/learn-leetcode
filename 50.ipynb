{
 "cells": [
  {
   "cell_type": "markdown",
   "metadata": {},
   "source": [
    "## 50. Pow(x, n)\n",
    "\n",
    "实现 pow(x, n) ，即计算 x 的 n 次幂函数（即，xn ）。\n",
    "\n",
    " \n",
    "\n",
    "示例 1：\n",
    "\n",
    "输入：x = 2.00000, n = 10\n",
    "输出：1024.00000\n",
    "\n",
    "示例 2：\n",
    "\n",
    "输入：x = 2.10000, n = 3\n",
    "输出：9.26100\n",
    "\n",
    "示例 3：\n",
    "\n",
    "输入：x = 2.00000, n = -2\n",
    "输出：0.25000\n",
    "解释：2-2 = 1/22 = 1/4 = 0.25\n",
    "\n",
    "来源：力扣（LeetCode）\n",
    "链接：https://leetcode-cn.com/problems/powx-n\n",
    "著作权归领扣网络所有。商业转载请联系官方授权，非商业转载请注明出处。"
   ]
  },
  {
   "cell_type": "code",
   "execution_count": 1,
   "metadata": {},
   "outputs": [],
   "source": [
    "class Solution:\n",
    "    def myPow(self, x: float, n: int) -> float:\n",
    "        if n < 0:\n",
    "            return 1/self.myPow(x, -n)\n",
    "        res = 1\n",
    "        track = x\n",
    "        while n > 0:\n",
    "            if n & 1:\n",
    "                res *= track\n",
    "            track *= track\n",
    "            n >>= 1\n",
    "\n",
    "        return res"
   ]
  }
 ],
 "metadata": {
  "interpreter": {
   "hash": "40d3a090f54c6569ab1632332b64b2c03c39dcf918b08424e98f38b5ae0af88f"
  },
  "kernelspec": {
   "display_name": "Python 3.8.8 ('base')",
   "language": "python",
   "name": "python3"
  },
  "language_info": {
   "codemirror_mode": {
    "name": "ipython",
    "version": 3
   },
   "file_extension": ".py",
   "mimetype": "text/x-python",
   "name": "python",
   "nbconvert_exporter": "python",
   "pygments_lexer": "ipython3",
   "version": "3.8.8"
  },
  "orig_nbformat": 4
 },
 "nbformat": 4,
 "nbformat_minor": 2
}
