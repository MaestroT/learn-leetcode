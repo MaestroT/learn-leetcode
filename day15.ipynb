{
 "cells": [
  {
   "cell_type": "markdown",
   "metadata": {},
   "source": [
    "## Merge K Sorted Lists\n",
    "Merge k sorted linked lists and return it as one sorted list. Analyze and describe its complexity.\n",
    "\n",
    "- input [1-4-5, 1-3-4, 2-6]\n",
    "- output 1-1-2-3-4-4-5-6\n",
    "\n",
    "针对day13进行heap优化：\n",
    "\n",
    "每次挑选最大的node，加入result中"
   ]
  },
  {
   "cell_type": "code",
   "execution_count": 1,
   "metadata": {},
   "outputs": [],
   "source": [
    "class ListNode:\n",
    "    def __init__(self, x):\n",
    "        self.val = x\n",
    "        self.next = None\n",
    "\n",
    "\n",
    "class MyListNode:\n",
    "    def __init__(self, l:ListNode):\n",
    "        self.l = l\n",
    "\n",
    "    def __eq__(self, other):\n",
    "        return self.l.val == other.l.val\n",
    "\n",
    "    def __lt__(self, other):\n",
    "        return self.l.val < other.l.val\n",
    "\n",
    "\n",
    "\n",
    "import heapq\n",
    "def merge(lists):\n",
    "    dummyhead = ListNode(0)\n",
    "    curr = dummyhead\n",
    "    heap = [MyListNode(i) for i in lists if i]\n",
    "    heapq.heapify(heap)\n",
    "\n",
    "    while heap:\n",
    "        i = heapq.heappop(heap).l\n",
    "        curr.next = ListNode(i.val)\n",
    "        curr = curr.next\n",
    "        if i.next:\n",
    "            heapq.heappush(heap, MyListNode(i.next))\n",
    "    \n",
    "    return dummyhead.next\n"
   ]
  },
  {
   "cell_type": "code",
   "execution_count": null,
   "metadata": {},
   "outputs": [],
   "source": [
    "class Solution:\n",
    "    def mergeKLists(self, lists):\n",
    "        \"\"\"\n",
    "        :type lists: List[ListNode]\n",
    "        :rtype: ListNode\n",
    "        \"\"\"\n",
    "        self.nodes = []\n",
    "        head = point = ListNode(0)\n",
    "        for l in lists:\n",
    "            while l:\n",
    "                self.nodes.append(l.val)\n",
    "                l = l.next\n",
    "        for x in sorted(self.nodes):\n",
    "            point.next = ListNode(x)\n",
    "            point = point.next\n",
    "        return head.next"
   ]
  },
  {
   "cell_type": "markdown",
   "metadata": {},
   "source": [
    "Time complexity : O(Nlog N) where N is the total number of nodes.\n",
    "\n",
    "Collecting all the values costs O(N) time.\n",
    "- A stable sorting algorithm costs O(NlogN) time.\n",
    "- Iterating for creating the linked list costs OO(N) time.\n",
    "\n",
    "Space complexity : O(N).\n",
    "- Sorting cost O(N) space (depends on the algorithm you choose).\n",
    "- Creating a new linked list costs O(N) space."
   ]
  },
  {
   "cell_type": "code",
   "execution_count": null,
   "metadata": {},
   "outputs": [],
   "source": [
    "class Solution2:\n",
    "    def mergeKLists2(self, lists):\n",
    "        \"\"\"\n",
    "        :type lists: List[ListNode]\n",
    "        :rtype: ListNode\n",
    "        \"\"\"\n",
    "        h = [(l.val, idx) for idx, l in enumerate(lists) if l]\n",
    "        heapq.heapify(h)\n",
    "        head = cur = ListNode(None)\n",
    "        while h:\n",
    "            val, idx = heapq.heappop(h)\n",
    "            cur.next = ListNode(val)\n",
    "            cur = cur.next\n",
    "            node = lists[idx] = lists[idx].next\n",
    "            if node:\n",
    "                heapq.heappush(h, (node.val, idx))\n",
    "        return head.next"
   ]
  }
 ],
 "metadata": {
  "interpreter": {
   "hash": "31f2aee4e71d21fbe5cf8b01ff0e069b9275f58929596ceb00d14d90e3e16cd6"
  },
  "kernelspec": {
   "display_name": "Python 3.8.9 64-bit",
   "name": "python3"
  },
  "language_info": {
   "codemirror_mode": {
    "name": "ipython",
    "version": 3
   },
   "file_extension": ".py",
   "mimetype": "text/x-python",
   "name": "python",
   "nbconvert_exporter": "python",
   "pygments_lexer": "ipython3",
   "version": "3.8.9"
  },
  "orig_nbformat": 4
 },
 "nbformat": 4,
 "nbformat_minor": 2
}
