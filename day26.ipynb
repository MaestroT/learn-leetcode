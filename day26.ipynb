{
 "cells": [
  {
   "cell_type": "markdown",
   "source": [
    "## 在排序数组中查找元素的第一个和最后一个位置\n",
    "给定一个升序排序的整数数组nums，和一个目标值target，找出给定目标值在数组中的开始位置和结束位置\n",
    "\n",
    "时间复杂度O(log n)\n",
    "\n",
    "如果数组中不存在目标值，返回[-1,-1]\n",
    "\n",
    "- nums=[5,7,7,8,8,10] target=8\n",
    "- [3,4]"
   ],
   "metadata": {}
  },
  {
   "cell_type": "code",
   "execution_count": 1,
   "source": [
    "def searchRange(nums, target):\n",
    "    from bisect import bisect_left, bisect_right\n",
    "    if len(nums) == 0:\n",
    "        return [-1,-1]\n",
    "    res = [-1,-1]\n",
    "    left = bisect_left(nums, target)\n",
    "    if left<len(nums) and nums[left]==target:\n",
    "        res[0] = left\n",
    "        res[1] = bisect_right(nums, target)-1\n",
    "    return res"
   ],
   "outputs": [],
   "metadata": {}
  },
  {
   "cell_type": "code",
   "execution_count": 2,
   "source": [
    "def searchRange2(nums, target):\n",
    "    try:\n",
    "        return [nums.index(target), len(nums)-(list(nums[::-1]).index(target))-1]\n",
    "    except:\n",
    "        return [-1,-1]"
   ],
   "outputs": [],
   "metadata": {}
  }
 ],
 "metadata": {
  "orig_nbformat": 4,
  "language_info": {
   "name": "python",
   "version": "3.8.8",
   "mimetype": "text/x-python",
   "codemirror_mode": {
    "name": "ipython",
    "version": 3
   },
   "pygments_lexer": "ipython3",
   "nbconvert_exporter": "python",
   "file_extension": ".py"
  },
  "kernelspec": {
   "name": "python3",
   "display_name": "Python 3.8.8 64-bit ('base': conda)"
  },
  "interpreter": {
   "hash": "dca0ade3e726a953b501b15e8e990130d2b7799f14cfd9f4271676035ebe5511"
  }
 },
 "nbformat": 4,
 "nbformat_minor": 2
}