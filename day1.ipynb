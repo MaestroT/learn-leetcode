{
 "cells": [
  {
   "cell_type": "markdown",
   "source": [
    "## Two Sum\n",
    "Given an array of integers, return indices of the two numbers such that they add up to a specific target\n",
    "#### Example\n",
    "Given nums = [2,7,11,15] target = 9\n",
    "return [0,1]"
   ],
   "metadata": {}
  },
  {
   "cell_type": "code",
   "execution_count": 1,
   "source": [
    "def twoSum(nums, target):\n",
    "    for i in nums:\n",
    "        j = target - i\n",
    "        start_index = nums.index(i)\n",
    "        next_index = start_index + 1\n",
    "        temp_nums = nums[next_index:]\n",
    "        if j in temp_nums:\n",
    "            return (nums.index(i), next_index + temp_nums.index(j))"
   ],
   "outputs": [],
   "metadata": {}
  },
  {
   "cell_type": "markdown",
   "source": [
    "使用字典："
   ],
   "metadata": {}
  },
  {
   "cell_type": "code",
   "execution_count": 2,
   "source": [
    "def twoSum(nums, target):\n",
    "    dict = {}\n",
    "    for i in range(len(nums)):\n",
    "        if target - nums[i] not in dict:\n",
    "            dict[nums[i]] = i\n",
    "        else:\n",
    "            return (dict[target-nums[i]],i)"
   ],
   "outputs": [],
   "metadata": {}
  },
  {
   "cell_type": "markdown",
   "source": [
    "### Add Two Numbers\n",
    "You are given two non-empty linked lists representing two non-negative integers. The digits are stored in reverse order and each of their nodes contain a single digit. Add the two numbers and return it as a linked list.\n",
    "\n",
    "- input (2 4 3) + (5 6 4)\n",
    "- output 7 0 8"
   ],
   "metadata": {}
  },
  {
   "cell_type": "code",
   "execution_count": null,
   "source": [
    "class ListNode:\n",
    "    def __init__(self, x):\n",
    "        self.val = x\n",
    "        self.next = None\n",
    "\n",
    "def addTwoNumbers(l1, l2):\n",
    "    if l1 is None:\n",
    "        return l2\n",
    "    if l2 is None:\n",
    "        return l1\n",
    "    \n",
    "    d = ListNode(0)\n",
    "    p = d\n",
    "    carry = 0  # addition carry \n",
    "\n",
    "    while l1 and l2:\n",
    "        p.next = ListNode((l1.val + l2.val + carry) % 10)\n",
    "        carry = (l1.val + l2.val + carry) // 10\n",
    "        l1 = l1.next\n",
    "        l2 = l2.next\n",
    "        p = p.next\n",
    "\n",
    "    # consider the two lists do not have a same length\n",
    "    if l1:\n",
    "        while l1:\n",
    "            p.next = ListNode((l1.val + carry) % 10)\n",
    "            carry = (l1.val + carry) // 10\n",
    "            l1 = l1.next\n",
    "            p = p.next\n",
    "\n",
    "    if l2:\n",
    "        while l2:\n",
    "            p.next = ListNode((l2.val + carry) % 10)\n",
    "            carry = (l2.val + carry) // 10\n",
    "            l2 = l2.next\n",
    "            p = p.next\n",
    "\n",
    "    # len(l1) == len(l2) but the last carry is 1\n",
    "    if carry == 1:\n",
    "        p.next = ListNode(1)\n",
    "\n",
    "    return d.next\n",
    "            "
   ],
   "outputs": [],
   "metadata": {}
  }
 ],
 "metadata": {
  "orig_nbformat": 4,
  "language_info": {
   "name": "python",
   "version": "3.8.2",
   "mimetype": "text/x-python",
   "codemirror_mode": {
    "name": "ipython",
    "version": 3
   },
   "pygments_lexer": "ipython3",
   "nbconvert_exporter": "python",
   "file_extension": ".py"
  },
  "kernelspec": {
   "name": "python3",
   "display_name": "Python 3.8.2 64-bit"
  },
  "interpreter": {
   "hash": "31f2aee4e71d21fbe5cf8b01ff0e069b9275f58929596ceb00d14d90e3e16cd6"
  }
 },
 "nbformat": 4,
 "nbformat_minor": 2
}