{
 "cells": [
  {
   "cell_type": "markdown",
   "metadata": {},
   "source": [
    "## 48. 旋转图像\n",
    "给定一个 n × n 的二维矩阵 matrix 表示一个图像。请你将图像顺时针旋转 90 度。\n",
    "\n",
    "你必须在 原地 旋转图像，这意味着你需要直接修改输入的二维矩阵。请不要 使用另一个矩阵来旋转图像。\n",
    "\n",
    "来源：力扣（LeetCode）\n",
    "链接：https://leetcode-cn.com/problems/rotate-image\n",
    "\n",
    "输入：matrix = [[1,2,3],[4,5,6],[7,8,9]]\n",
    "输出：[[7,4,1],[8,5,2],[9,6,3]]"
   ]
  },
  {
   "cell_type": "code",
   "execution_count": null,
   "metadata": {},
   "outputs": [],
   "source": [
    "class Solution:\n",
    "    def rotate(self, matrix):\n",
    "        h = len(matrix) \n",
    "        n = h - 1\n",
    "        for i in range(h//2):\n",
    "            for j in range(i, n-i):\n",
    "                tmp = matrix[i][j]\n",
    "                matrix[i][j] = matrix[n-j][i]\n",
    "                matrix[n-j][i] = matrix[n-i][n-j]\n",
    "                matrix[n-i][n-j] = matrix[j][n-i]\n",
    "                matrix[j][n-i] = tmp\n",
    "\n"
   ]
  }
 ],
 "metadata": {
  "language_info": {
   "name": "python"
  },
  "orig_nbformat": 4
 },
 "nbformat": 4,
 "nbformat_minor": 2
}
