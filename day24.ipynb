{
 "cells": [
  {
   "cell_type": "markdown",
   "source": [
    "## 最长有效括号\n",
    "给定一个只包含'('和')'的字符串，找出最长有效括号子串的长度\n",
    "- (()\n",
    "- 2\n",
    "- 最长子串：()"
   ],
   "metadata": {}
  },
  {
   "cell_type": "code",
   "execution_count": 2,
   "source": [
    "def longestValidParentheses(s):\n",
    "    res = 0\n",
    "    stack = [-1]\n",
    "    for i,c in enumerate(s):\n",
    "        if c==\"(\":\n",
    "            stack.append(i)\n",
    "        elif len(stack)==1:\n",
    "            stack.pop()\n",
    "            stack.append(i)\n",
    "        else:\n",
    "            stack.pop()\n",
    "            res = max(res, i-stack[-1])\n",
    "    return res"
   ],
   "outputs": [],
   "metadata": {}
  },
  {
   "cell_type": "code",
   "execution_count": 3,
   "source": [
    "s = \"((())())\"\n",
    "print(longestValidParentheses(s))"
   ],
   "outputs": [
    {
     "output_type": "stream",
     "name": "stdout",
     "text": [
      "8\n"
     ]
    }
   ],
   "metadata": {}
  },
  {
   "cell_type": "code",
   "execution_count": null,
   "source": [],
   "outputs": [],
   "metadata": {}
  }
 ],
 "metadata": {
  "orig_nbformat": 4,
  "language_info": {
   "name": "python",
   "version": "3.8.8",
   "mimetype": "text/x-python",
   "codemirror_mode": {
    "name": "ipython",
    "version": 3
   },
   "pygments_lexer": "ipython3",
   "nbconvert_exporter": "python",
   "file_extension": ".py"
  },
  "kernelspec": {
   "name": "python3",
   "display_name": "Python 3.8.8 64-bit ('base': conda)"
  },
  "interpreter": {
   "hash": "dca0ade3e726a953b501b15e8e990130d2b7799f14cfd9f4271676035ebe5511"
  }
 },
 "nbformat": 4,
 "nbformat_minor": 2
}