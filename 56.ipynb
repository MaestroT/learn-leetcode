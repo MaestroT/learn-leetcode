{
 "cells": [
  {
   "cell_type": "markdown",
   "metadata": {},
   "source": [
    "## 56. 合并区间\n",
    "以数组 intervals 表示若干个区间的集合，其中单个区间为 intervals[i] = [starti, endi] 。请你合并所有重叠的区间，并返回 一个不重叠的区间数组，该数组需恰好覆盖输入中的所有区间 。\n",
    "\n",
    " \n",
    "\n",
    "示例 1：\n",
    "\n",
    "输入：intervals = [[1,3],[2,6],[8,10],[15,18]]\n",
    "输出：[[1,6],[8,10],[15,18]]\n",
    "解释：区间 [1,3] 和 [2,6] 重叠, 将它们合并为 [1,6].\n",
    "示例 2：\n",
    "\n",
    "输入：intervals = [[1,4],[4,5]]\n",
    "输出：[[1,5]]\n",
    "解释：区间 [1,4] 和 [4,5] 可被视为重叠区间。\n",
    "\n",
    "来源：力扣（LeetCode）\n",
    "链接：https://leetcode-cn.com/problems/merge-intervals\n",
    "著作权归领扣网络所有。商业转载请联系官方授权，非商业转载请注明出处。"
   ]
  },
  {
   "cell_type": "code",
   "execution_count": null,
   "metadata": {},
   "outputs": [],
   "source": [
    "class Solution:\n",
    "    def merge(self, intervals: List[List[int]]) -> List[List[int]]:\n",
    "        result = []\n",
    "        intervals.sort(key=lambda x:x[0])\n",
    "\n",
    "        i = 0\n",
    "        while i < len(intervals):\n",
    "            cur_start = intervals[i][0]\n",
    "            cur_end = intervals[i][1]\n",
    "            if result:\n",
    "                prev_start, pre_end = result[-1]\n",
    "                hi = min(pre_end, cur_end)\n",
    "                lo = max(prev_start, cur_start)\n",
    "                if lo <= hi:\n",
    "                    if cur_end > pre_end:\n",
    "                        result[-1][1] = cur_end\n",
    "                else:\n",
    "                    result.append(intervals[i])\n",
    "\n",
    "            else:\n",
    "                result.append(intervals[i])\n",
    "            i += 1\n",
    "\n",
    "        return result"
   ]
  }
 ],
 "metadata": {
  "language_info": {
   "name": "python"
  },
  "orig_nbformat": 4
 },
 "nbformat": 4,
 "nbformat_minor": 2
}
