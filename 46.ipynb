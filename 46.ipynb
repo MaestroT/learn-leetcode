{
 "cells": [
  {
   "cell_type": "markdown",
   "metadata": {},
   "source": [
    "## 46. 全排列\n",
    "给定一个不含重复数字的数组 nums ，返回其 所有可能的全排列 。你可以 按任意顺序 返回答案。\n",
    "\n",
    " \n",
    "\n",
    "示例 1：\n",
    "\n",
    "输入：nums = [1,2,3]\n",
    "输出：[[1,2,3],[1,3,2],[2,1,3],[2,3,1],[3,1,2],[3,2,1]]\n",
    "示例 2：\n",
    "\n",
    "输入：nums = [0,1]\n",
    "输出：[[0,1],[1,0]]\n",
    "示例 3：\n",
    "\n",
    "输入：nums = [1]\n",
    "输出：[[1]]\n",
    "\n",
    "\n",
    "来源：力扣（LeetCode）\n",
    "链接：https://leetcode-cn.com/problems/permutations"
   ]
  },
  {
   "cell_type": "code",
   "execution_count": null,
   "metadata": {},
   "outputs": [],
   "source": [
    "class Solution:\n",
    "    def permute(self, nums):\n",
    "        if len(nums) <= 1:\n",
    "            return [nums]\n",
    "        \n",
    "        ans = []\n",
    "\n",
    "        for i, num in enumerate(nums):\n",
    "            n = nums[:i] + nums[i+1:]\n",
    "            for y in self.permute(n):\n",
    "                ans.append([num]+y)\n",
    "\n",
    "        return ans"
   ]
  }
 ],
 "metadata": {
  "interpreter": {
   "hash": "40d3a090f54c6569ab1632332b64b2c03c39dcf918b08424e98f38b5ae0af88f"
  },
  "kernelspec": {
   "display_name": "Python 3.8.8 ('base')",
   "language": "python",
   "name": "python3"
  },
  "language_info": {
   "name": "python",
   "version": "3.8.8"
  },
  "orig_nbformat": 4
 },
 "nbformat": 4,
 "nbformat_minor": 2
}
