{
 "cells": [
  {
   "cell_type": "markdown",
   "source": [
    "## Remove Element\n",
    "Given an array nums and a value val, remove all instances of that value in-place and return the new length.\n",
    "\n",
    "Do not allocate extra space for another array, you must do this by modifying the imput array in-place with O(1) extra memorry.\n",
    "\n",
    "The order of elements can be changed. It doesn't matter what you leave beyond the new length.\n",
    "- nums = [3,2,2,3] val = 3\n",
    "- length = 2   , fisrt two elements of nums being 2"
   ],
   "metadata": {}
  },
  {
   "cell_type": "code",
   "execution_count": 1,
   "source": [
    "def removeElement(nums, val):\n",
    "    # 从头遍历nums中的元素（i），如果需要删除，则与最后一位（last）调换位置\n",
    "    i, last = 0, len(nums) - 1\n",
    "\n",
    "    while i <= last:\n",
    "        if nums[i] == val:\n",
    "            nums[i], nums[last] = nums[last], nums[i]\n",
    "            last -= 1\n",
    "        else:\n",
    "            i += 1\n",
    "\n",
    "    return last+1"
   ],
   "outputs": [],
   "metadata": {}
  }
 ],
 "metadata": {
  "orig_nbformat": 4,
  "language_info": {
   "name": "python",
   "version": "3.8.8",
   "mimetype": "text/x-python",
   "codemirror_mode": {
    "name": "ipython",
    "version": 3
   },
   "pygments_lexer": "ipython3",
   "nbconvert_exporter": "python",
   "file_extension": ".py"
  },
  "kernelspec": {
   "name": "python3",
   "display_name": "Python 3.8.8 64-bit ('base': conda)"
  },
  "interpreter": {
   "hash": "dca0ade3e726a953b501b15e8e990130d2b7799f14cfd9f4271676035ebe5511"
  }
 },
 "nbformat": 4,
 "nbformat_minor": 2
}