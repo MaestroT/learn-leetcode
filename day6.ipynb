{
 "cells": [
  {
   "cell_type": "markdown",
   "source": [
    "## Container With Most Water\n",
    "Given n non-negative integers a1, a2, ... , an, where each represents a point at coordinate(i, ai). n vertical lines are drawn such that the two endpoints of line i is at (i, ai) and (i, 0). Find two lines, which together with x-axis from a container, such that the container contains the most water.\n",
    "\n",
    "- input [1,8,6,2,5,4,8,3,7]\n",
    "- output 49"
   ],
   "metadata": {}
  },
  {
   "cell_type": "code",
   "execution_count": 1,
   "source": [
    "def maxArea(height):\n",
    "    # 左边界右移，右边界左移\n",
    "    left = 0\n",
    "    right = len(height) - 1\n",
    "    result = 0\n",
    "\n",
    "    while left < right:\n",
    "        water = min(left, right) * (right - left)\n",
    "\n",
    "        if water > result:\n",
    "            result = water\n",
    "        \n",
    "        if height[left] < height[right]:\n",
    "            left += 1\n",
    "        else:\n",
    "            right -= 1\n",
    "    return result"
   ],
   "outputs": [],
   "metadata": {}
  },
  {
   "cell_type": "markdown",
   "source": [
    "该方法Memory Usage较大"
   ],
   "metadata": {}
  }
 ],
 "metadata": {
  "orig_nbformat": 4,
  "language_info": {
   "name": "python",
   "version": "3.8.2",
   "mimetype": "text/x-python",
   "codemirror_mode": {
    "name": "ipython",
    "version": 3
   },
   "pygments_lexer": "ipython3",
   "nbconvert_exporter": "python",
   "file_extension": ".py"
  },
  "kernelspec": {
   "name": "python3",
   "display_name": "Python 3.8.2 64-bit"
  },
  "interpreter": {
   "hash": "31f2aee4e71d21fbe5cf8b01ff0e069b9275f58929596ceb00d14d90e3e16cd6"
  }
 },
 "nbformat": 4,
 "nbformat_minor": 2
}