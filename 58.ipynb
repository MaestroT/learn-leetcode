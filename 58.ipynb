{
 "cells": [
  {
   "cell_type": "markdown",
   "metadata": {},
   "source": [
    "## 58. 最后一个单词的长度\n",
    "给你一个字符串 s，由若干单词组成，单词前后用一些空格字符隔开。返回字符串中最后一个单词的长度。\n",
    "\n",
    "单词 是指仅由字母组成、不包含任何空格字符的最大子字符串。\n",
    "\n",
    "示例 1：\n",
    "\n",
    "输入：s = \"Hello World\"\n",
    "输出：5\n",
    "\n",
    "示例 2：\n",
    "\n",
    "输入：s = \"   fly me   to   the moon  \"\n",
    "输出：4\n",
    "\n",
    "示例 3：\n",
    "\n",
    "输入：s = \"luffy is still joyboy\"\n",
    "输出：6\n",
    "\n",
    "来源：力扣（LeetCode）\n",
    "链接：https://leetcode-cn.com/problems/length-of-last-word\n",
    "著作权归领扣网络所有。商业转载请联系官方授权，非商业转载请注明出处。"
   ]
  },
  {
   "cell_type": "code",
   "execution_count": null,
   "metadata": {},
   "outputs": [],
   "source": [
    "class Solution:\n",
    "    def lengthOfLastWord(self, s: str) -> int:\n",
    "        s = s.split()\n",
    "        return (len(s[-1]))\n",
    "        # count = 0\n",
    "        # local_count = 0\n",
    "\n",
    "        # for i in range(len(s)):\n",
    "        #     if s[i] == ' ':\n",
    "        #         local_count = 0\n",
    "        #     else:\n",
    "        #         local_count += 1\n",
    "        #         count = local_count\n",
    "\n",
    "        # return count"
   ]
  }
 ],
 "metadata": {
  "interpreter": {
   "hash": "40d3a090f54c6569ab1632332b64b2c03c39dcf918b08424e98f38b5ae0af88f"
  },
  "kernelspec": {
   "display_name": "Python 3.8.8 ('base')",
   "language": "python",
   "name": "python3"
  },
  "language_info": {
   "name": "python",
   "version": "3.8.8"
  },
  "orig_nbformat": 4
 },
 "nbformat": 4,
 "nbformat_minor": 2
}
