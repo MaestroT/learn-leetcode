{
 "cells": [
  {
   "cell_type": "markdown",
   "metadata": {},
   "source": [
    "## 51. N 皇后\n",
    "n 皇后问题 研究的是如何将 n 个皇后放置在 n×n 的棋盘上，并且使皇后彼此之间不能相互攻击。\n",
    "\n",
    "给你一个整数 n ，返回所有不同的 n 皇后问题 的解决方案。\n",
    "\n",
    "每一种解法包含一个不同的 n 皇后问题 的棋子放置方案，该方案中 'Q' 和 '.' 分别代表了皇后和空位。\n",
    "\n",
    "来源：力扣（LeetCode）\n",
    "链接：https://leetcode-cn.com/problems/n-queens\n",
    "著作权归领扣网络所有。商业转载请联系官方授权，非商业转载请注明出处。"
   ]
  },
  {
   "cell_type": "code",
   "execution_count": null,
   "metadata": {},
   "outputs": [],
   "source": [
    "class Solution:\n",
    "    def solveNQueens(self, n: int) -> List[List[str]]:\n",
    "        self.res = []\n",
    "        trans = lambda path: ['.'*i + 'Q' + '.'*(len(path)-1-i) for i in path]\n",
    "        def rec(n, path, pos):\n",
    "            if len(path) == n:\n",
    "                self.res.append(trans(path))\n",
    "                return\n",
    "            l, r, m = pos\n",
    "            l, r = [i-1 for i in l], [i+1 for i in r]\n",
    "            total = l+r+m\n",
    "            for cant in range(n):\n",
    "                if cant in total:\n",
    "                    continue\n",
    "                rec(n, path+[cant], [l+[cant], r+[cant], m+[cant]])\n",
    "\n",
    "        rec(n, [], [[],[],[]])\n",
    "        return self.res"
   ]
  }
 ],
 "metadata": {
  "interpreter": {
   "hash": "40d3a090f54c6569ab1632332b64b2c03c39dcf918b08424e98f38b5ae0af88f"
  },
  "kernelspec": {
   "display_name": "Python 3.8.8 ('base')",
   "language": "python",
   "name": "python3"
  },
  "language_info": {
   "name": "python",
   "version": "3.8.8"
  },
  "orig_nbformat": 4
 },
 "nbformat": 4,
 "nbformat_minor": 2
}
