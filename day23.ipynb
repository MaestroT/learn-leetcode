{
 "cells": [
  {
   "cell_type": "markdown",
   "source": [
    "## 下一个排列\n",
    "实现获取下一个排列的函数，算法需要将给定的数字序列重新排列成字典序中下一个更大的排列\n",
    "\n",
    "如果不存在更大的排列，则按照升序排序。\n",
    "\n",
    "1，2，3 ---》 1，3，2\n",
    "3，2，1 ---》 1，2，3\n",
    "1，1，5 ---》 1，5，1"
   ],
   "metadata": {}
  },
  {
   "cell_type": "code",
   "execution_count": 2,
   "source": [
    "nums = [1,2,3]\n",
    "nums = nums[::-1]\n",
    "nums"
   ],
   "outputs": [
    {
     "output_type": "execute_result",
     "data": {
      "text/plain": [
       "[3, 2, 1]"
      ]
     },
     "metadata": {},
     "execution_count": 2
    }
   ],
   "metadata": {}
  },
  {
   "cell_type": "code",
   "execution_count": 3,
   "source": [
    "def nextPermutation(nums):\n",
    "    if sorted(nums, reverse=True) == nums:\n",
    "        nums[:] = nums[::-1]\n",
    "        return\n",
    "    for i in range(len(nums)-1)[::-1]:\n",
    "        if nums[i] < nums[i+1]:\n",
    "            break\n",
    "    for j in range(i+1, len(nums)):\n",
    "        if j==len(nums)-1 or nums[j+1]<=nums[i]:\n",
    "            nums[i], nums[j] = nums[j], nums[i]\n",
    "            break\n",
    "    nums[i+1:] = nums[i+1:][::-1]\n",
    "    return"
   ],
   "outputs": [],
   "metadata": {}
  }
 ],
 "metadata": {
  "orig_nbformat": 4,
  "language_info": {
   "name": "python",
   "version": "3.8.8",
   "mimetype": "text/x-python",
   "codemirror_mode": {
    "name": "ipython",
    "version": 3
   },
   "pygments_lexer": "ipython3",
   "nbconvert_exporter": "python",
   "file_extension": ".py"
  },
  "kernelspec": {
   "name": "python3",
   "display_name": "Python 3.8.8 64-bit ('base': conda)"
  },
  "interpreter": {
   "hash": "dca0ade3e726a953b501b15e8e990130d2b7799f14cfd9f4271676035ebe5511"
  }
 },
 "nbformat": 4,
 "nbformat_minor": 2
}