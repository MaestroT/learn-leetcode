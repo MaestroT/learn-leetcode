{
 "cells": [
  {
   "cell_type": "markdown",
   "metadata": {},
   "source": [
    "## Count and Say\n",
    "The count and say sequence of integers with the first five terms are following:\n",
    "1. 1\n",
    "2. 11\n",
    "3. 21\n",
    "4. 1211\n",
    "5. 111221\n",
    "\n",
    "1 is read off as \"one 1\" or 11\n",
    "\n",
    "11 is read off as \"two 1s\" or 21\n",
    "\n",
    "21 is read off as \"one 2, then one 1\" or 1211\n",
    "\n",
    "Given an integer n where 1<=n<=30, generate the nth term of the count and say sequence\n"
   ]
  },
  {
   "cell_type": "code",
   "execution_count": 1,
   "metadata": {},
   "outputs": [],
   "source": [
    "def countAndSay(n):\n",
    "    seq = \"1\"\n",
    "    for i in range(n-1):\n",
    "        seq = getNext(seq)\n",
    "    return seq\n",
    "\n",
    "def getNext(seq):\n",
    "    i, next_seq = 0, \"\"\n",
    "    while i < len(seq):\n",
    "        count = 1\n",
    "        while i < len(seq) -1 and seq[i] == seq[i+1]:\n",
    "            count += 1\n",
    "            i += 1\n",
    "        next_seq += str(count) + seq[i]\n",
    "        i += 1\n",
    "    return next_seq"
   ]
  },
  {
   "cell_type": "code",
   "execution_count": 3,
   "metadata": {},
   "outputs": [
    {
     "name": "stdout",
     "output_type": "stream",
     "text": [
      "312211\n"
     ]
    }
   ],
   "source": [
    "print(countAndSay(6))"
   ]
  }
 ],
 "metadata": {
  "interpreter": {
   "hash": "40d3a090f54c6569ab1632332b64b2c03c39dcf918b08424e98f38b5ae0af88f"
  },
  "kernelspec": {
   "display_name": "Python 3.8.8 64-bit ('base': conda)",
   "name": "python3"
  },
  "language_info": {
   "codemirror_mode": {
    "name": "ipython",
    "version": 3
   },
   "file_extension": ".py",
   "mimetype": "text/x-python",
   "name": "python",
   "nbconvert_exporter": "python",
   "pygments_lexer": "ipython3",
   "version": "3.8.8"
  },
  "orig_nbformat": 4
 },
 "nbformat": 4,
 "nbformat_minor": 2
}
