{
 "cells": [
  {
   "cell_type": "markdown",
   "source": [
    "## Integer to Roman\n",
    "Roman numerals are represented by seven symbols: I, V, X, L, C, D and M\n",
    "\n",
    "|Symbol|Value|\n",
    "|------|------|\n",
    "|I|1|\n",
    "|V|5|\n",
    "|X|10|\n",
    "|L|50|\n",
    "|C|100|\n",
    "|D|500|\n",
    "|M|1000|\n",
    "\n",
    "- I can be placed before V and X to make 4 and 9\n",
    "- X can be placed before L and C to make 40 and 90\n",
    "- C can be placed before D and M to make 400 and 900\n",
    "\n",
    "Given an integer, convert it to a roman numeral. Input is guaranteed to be within the range from 1 to 3999.\n",
    "\n",
    "- input 3\n",
    "- output III"
   ],
   "metadata": {}
  },
  {
   "cell_type": "code",
   "execution_count": 1,
   "source": [
    "def intToRoman(num):\n",
    "    # values = [1000,900,500,...]\n",
    "    # numrals = ['M', 'CM', 'D',...]\n",
    "    # input 1994\n",
    "    # 1994>1000 => M\n",
    "    # 994>900 => MCM\n",
    "    # 94>90 => MCMXC\n",
    "    # 4<5 =4 => MCMXCIV\n",
    "    values = [1000,900,500,400,100,90,50,40,10,9,5,4,1]\n",
    "    numerals = [\"M\",\"CM\",\"D\",\"CD\",\"C\",\"XC\",\"L\",\"XL\",\"X\",\"IX\",\"V\",\"IV\",\"I\"]\n",
    "\n",
    "    result = ''\n",
    "    for i in range(0, len(values)):\n",
    "        while num >= values[i]:\n",
    "            num -= values[i]\n",
    "            result += numerals[i]\n",
    "    return result"
   ],
   "outputs": [],
   "metadata": {}
  }
 ],
 "metadata": {
  "orig_nbformat": 4,
  "language_info": {
   "name": "python",
   "version": "3.8.2",
   "mimetype": "text/x-python",
   "codemirror_mode": {
    "name": "ipython",
    "version": 3
   },
   "pygments_lexer": "ipython3",
   "nbconvert_exporter": "python",
   "file_extension": ".py"
  },
  "kernelspec": {
   "name": "python3",
   "display_name": "Python 3.8.2 64-bit"
  },
  "interpreter": {
   "hash": "31f2aee4e71d21fbe5cf8b01ff0e069b9275f58929596ceb00d14d90e3e16cd6"
  }
 },
 "nbformat": 4,
 "nbformat_minor": 2
}