{
 "cells": [
  {
   "cell_type": "markdown",
   "metadata": {},
   "source": [
    "## Valid Sudoku\n",
    "Determine if a 9*9 Sukudo board is valid. Only the filled cells need to be validated according to the following rules:\n",
    "- Each row must contain the digits 1-9 without repetition\n",
    "- Each column must contain the digits 1-9 without repetition\n",
    "- Each of the 9 3x3 sub-boxes of the grid must contain the digits 1-9 without repetition"
   ]
  },
  {
   "cell_type": "code",
   "execution_count": 1,
   "metadata": {},
   "outputs": [],
   "source": [
    "def isValidSudoku(board):\n",
    "    return is_row_valid(board) and is_col_valid(board) and is_square_valid(board)\n",
    "\n",
    "def is_row_valid(board):\n",
    "    for row in board:\n",
    "        if not is_unit_valid(row):\n",
    "            return False\n",
    "    return True\n",
    "\n",
    "def is_col_valid(board):\n",
    "    for col in zip(*board):\n",
    "        if not is_unit_valid(col):\n",
    "            return False\n",
    "    return True\n",
    "\n",
    "def is_square_valid(board):\n",
    "    for i in (0, 3, 6):\n",
    "        for j in (0, 3, 6):\n",
    "            square = [board[x][y] for x in range(i,i+3) for y in range(j, j+3)]\n",
    "        if not is_unit_valid(square):\n",
    "            return False\n",
    "    return True\n",
    "\n",
    "def is_unit_valid(unit):\n",
    "    unit = [i for i in unit if i != '.']\n",
    "    return len(set(unit)==len(unit))"
   ]
  }
 ],
 "metadata": {
  "interpreter": {
   "hash": "40d3a090f54c6569ab1632332b64b2c03c39dcf918b08424e98f38b5ae0af88f"
  },
  "kernelspec": {
   "display_name": "Python 3.8.8 64-bit ('base': conda)",
   "name": "python3"
  },
  "language_info": {
   "codemirror_mode": {
    "name": "ipython",
    "version": 3
   },
   "file_extension": ".py",
   "mimetype": "text/x-python",
   "name": "python",
   "nbconvert_exporter": "python",
   "pygments_lexer": "ipython3",
   "version": "3.8.8"
  },
  "orig_nbformat": 4
 },
 "nbformat": 4,
 "nbformat_minor": 2
}
