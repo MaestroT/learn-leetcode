{
 "cells": [
  {
   "cell_type": "markdown",
   "source": [
    "## 3Sum\n",
    "Given an array nums if n integers and an integer target, find three integers in nums such that the sum is closet yo target. Return the usm of the three integers. You may assume that each input would have exactly one solution.\n",
    "- nums = [-1, 2, 1, -4] and target = 1\n",
    "- 2 (-1+2+1=2)"
   ],
   "metadata": {}
  },
  {
   "cell_type": "code",
   "execution_count": 1,
   "source": [
    "def threeSumCloest(nums, target):\n",
    "    nums = sorted(nums)\n",
    "    result = nums[0] + nums[1] + nums[-1]\n",
    "\n",
    "    # sorted nums [-4, -1, 1, 2]\n",
    "    # result = -4 + -1 + 2\n",
    "    # result > target  -4 -1 1\n",
    "    for i in range(len(nums) - 2):\n",
    "        if i > 0 and nums[i] == nums[i - 1]:\n",
    "            continue\n",
    "        l = i + 1\n",
    "        r = len(nums) - 1\n",
    "        while l < r:\n",
    "            val = nums[i] + nums[l] + nums[r]\n",
    "            if abs(val - target) < abs(result - target):\n",
    "                result = val\n",
    "            if val == target:\n",
    "                return target\n",
    "            elif val < target:\n",
    "                l += 1\n",
    "            else:\n",
    "                r -= 1\n",
    "    return result"
   ],
   "outputs": [],
   "metadata": {}
  },
  {
   "cell_type": "markdown",
   "source": [
    "## 4Sums\n",
    "nums中的四个数之和与target相等\n",
    "\n",
    "要求找出所有满足条件且不重复的四元组"
   ],
   "metadata": {}
  },
  {
   "cell_type": "code",
   "execution_count": 2,
   "source": [
    "def fourSum(nums, target):\n",
    "    if len(nums) < 4:\n",
    "        return []\n",
    "    nums.sort()\n",
    "    result = set()\n",
    "    for i in range(len(nums) - 3):\n",
    "        for j in range(i+1, len(nums) - 2):\n",
    "            val = nums[i] + nums[j]\n",
    "            l = j + 1\n",
    "            r = len(nums) - 1\n",
    "            while l < r:\n",
    "                if val + nums[l] + nums[r] == target:\n",
    "                    if (nums[i], nums[j], nums[l], nums[r]) not in result:\n",
    "                        result.add((nums[i], nums[j], nums[l], nums[r]))\n",
    "                if val + nums[l] + nums[r] < target:\n",
    "                    l += 1\n",
    "                elif val + nums[l] + nums[r] > target:\n",
    "                    r -= 1\n",
    "    return list(result)\n"
   ],
   "outputs": [],
   "metadata": {}
  }
 ],
 "metadata": {
  "orig_nbformat": 4,
  "language_info": {
   "name": "python",
   "version": "3.8.2",
   "mimetype": "text/x-python",
   "codemirror_mode": {
    "name": "ipython",
    "version": 3
   },
   "pygments_lexer": "ipython3",
   "nbconvert_exporter": "python",
   "file_extension": ".py"
  },
  "kernelspec": {
   "name": "python3",
   "display_name": "Python 3.8.2 64-bit"
  },
  "interpreter": {
   "hash": "31f2aee4e71d21fbe5cf8b01ff0e069b9275f58929596ceb00d14d90e3e16cd6"
  }
 },
 "nbformat": 4,
 "nbformat_minor": 2
}