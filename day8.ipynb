{
 "cells": [
  {
   "cell_type": "markdown",
   "source": [
    "## Longest Common Prefix\n",
    "Write a function to find the longest common prefix string amongst an array of strings.\n",
    "\n",
    "If there is no common prefix, return an empty string \"\".\n",
    "\n",
    "- input [\"flower\",\"flow\",\"flight\"]\n",
    "- output \"fl\"\n",
    "\n",
    "All given inputs are in lowercase letters a-z"
   ],
   "metadata": {}
  },
  {
   "cell_type": "code",
   "execution_count": 1,
   "source": [
    "def longestCommonPrefix(strs):\n",
    "    if not strs:\n",
    "        return \"\"\n",
    "    \n",
    "    for i in range(len(strs[0])):\n",
    "        for s in strs[1:]:\n",
    "            if  i >= len(s) or s[i] != strs[0][i]:\n",
    "                return strs[0][:i]\n",
    "\n",
    "    return strs[0] # input: [\"\"]"
   ],
   "outputs": [],
   "metadata": {}
  },
  {
   "cell_type": "code",
   "execution_count": 2,
   "source": [
    "def longestCommonPrefix(strs):\n",
    "    result = \"\"\n",
    "    i = 0\n",
    "\n",
    "    while True:\n",
    "        try:\n",
    "            sets = set(s[i] for s in strs)\n",
    "            if len(sets) == 1:\n",
    "                result += sets.pop()\n",
    "                i += 1\n",
    "            else:\n",
    "                break\n",
    "        except Exception as e:\n",
    "            break\n",
    "\n",
    "    return result"
   ],
   "outputs": [],
   "metadata": {}
  }
 ],
 "metadata": {
  "orig_nbformat": 4,
  "language_info": {
   "name": "python",
   "version": "3.8.2",
   "mimetype": "text/x-python",
   "codemirror_mode": {
    "name": "ipython",
    "version": 3
   },
   "pygments_lexer": "ipython3",
   "nbconvert_exporter": "python",
   "file_extension": ".py"
  },
  "kernelspec": {
   "name": "python3",
   "display_name": "Python 3.8.2 64-bit"
  },
  "interpreter": {
   "hash": "31f2aee4e71d21fbe5cf8b01ff0e069b9275f58929596ceb00d14d90e3e16cd6"
  }
 },
 "nbformat": 4,
 "nbformat_minor": 2
}