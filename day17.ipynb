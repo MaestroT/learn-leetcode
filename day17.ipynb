{
 "cells": [
  {
   "cell_type": "markdown",
   "source": [
    "## K个一组翻转链表\n",
    "给定一个链表，每k个节点一组进行翻转，请你返回翻转后的链表\n",
    "\n",
    "K是一个正整数，小于等于链表的长度\n",
    "\n",
    "如果节点总数不是K的整数倍，剩余节点保持原有顺序"
   ],
   "metadata": {}
  },
  {
   "cell_type": "code",
   "execution_count": null,
   "source": [
    "class ListNode:\n",
    "    def __init__(self, x):\n",
    "        self.val = x\n",
    "        self.next = None\n",
    "\n",
    "def reverseKGroup(head: ListNode, k: int):\n",
    "    dummy = ListNode(0)\n",
    "    dummy.next = head\n",
    "    end = prev = dummy\n",
    "    def swap(prev, k, end):\n",
    "        after = end.next\n",
    "        move = prev.next\n",
    "        prev.next = end\n",
    "        temp = move.next\n",
    "        end = move\n",
    "        for i in range(k-1):\n",
    "            tnext = temp.next\n",
    "            temp.next = move\n",
    "            move = temp\n",
    "            temp = tnext\n",
    "        end.next = after\n",
    "        return end\n",
    "    \n",
    "    while True:\n",
    "        try:\n",
    "            for _ in range(k):\n",
    "                end = end.next\n",
    "            prev = end = swap(prev, k, end)\n",
    "        except:\n",
    "            break\n",
    "    return dummy.next"
   ],
   "outputs": [],
   "metadata": {}
  }
 ],
 "metadata": {
  "orig_nbformat": 4,
  "language_info": {
   "name": "python"
  }
 },
 "nbformat": 4,
 "nbformat_minor": 2
}