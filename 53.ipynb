{
 "cells": [
  {
   "cell_type": "markdown",
   "metadata": {},
   "source": [
    "## 53. 最大子数组和\n",
    "给你一个整数数组 nums ，请你找出一个具有最大和的连续子数组（子数组最少包含一个元素），返回其最大和。\n",
    "\n",
    "子数组 是数组中的一个连续部分。\n",
    "\n",
    " \n",
    "\n",
    "示例 1：\n",
    "\n",
    "输入：nums = [-2,1,-3,4,-1,2,1,-5,4]\n",
    "输出：6\n",
    "解释：连续子数组 [4,-1,2,1] 的和最大，为 6 。\n",
    "\n",
    "示例 2：\n",
    "输入：nums = [1]\n",
    "输出：1\n",
    "\n",
    "示例 3：\n",
    "输入：nums = [5,4,-1,7,8]\n",
    "输出：23\n",
    "\n",
    "来源：力扣（LeetCode）\n",
    "链接：https://leetcode-cn.com/problems/maximum-subarray\n",
    "著作权归领扣网络所有。商业转载请联系官方授权，非商业转载请注明出处。"
   ]
  },
  {
   "cell_type": "code",
   "execution_count": null,
   "metadata": {},
   "outputs": [],
   "source": [
    "class Solution:\n",
    "    def maxSubArray(self, nums) -> int:\n",
    "        if max(nums) < 0:\n",
    "            return max(nums)\n",
    "        \n",
    "        local_max, global_max = 0, 0\n",
    "        for num in nums:\n",
    "            local_max = max(0, local_max+num)\n",
    "            global_max = max(local_max, global_max)\n",
    "\n",
    "        return global_max"
   ]
  }
 ],
 "metadata": {
  "language_info": {
   "name": "python"
  },
  "orig_nbformat": 4
 },
 "nbformat": 4,
 "nbformat_minor": 2
}
