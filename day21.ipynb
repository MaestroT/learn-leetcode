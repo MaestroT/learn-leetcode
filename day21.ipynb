{
 "cells": [
  {
   "cell_type": "markdown",
   "source": [
    "## Two integers divided\n",
    "Given two integers dividend and disvisor, divide two integers without using multiplication, division and mod operator.\n",
    "\n",
    "Return the quotient after dividing dividend by divisor.\n",
    "\n",
    "The integer division should truncate toward zero\n",
    "- input dividend=10, divisor=3\n",
    "- output 3"
   ],
   "metadata": {}
  },
  {
   "cell_type": "code",
   "execution_count": 1,
   "source": [
    "def devide(dividend, divisor):\n",
    "    flag = -1 if (dividend>0 and divisor<0) or (dividend<0 and divisor>0) else 1\n",
    "    dividend, divisor = abs(dividend), abs(divisor)\n",
    "    q, times = 0, 0\n",
    "    while dividend >= divisor:\n",
    "        cur = dividend - (divisor<<times)\n",
    "        if cur >= 0:\n",
    "            q += (1 << times)\n",
    "            times += 1\n",
    "            dividend = cur\n",
    "        else:\n",
    "            times -= 1\n",
    "    return max(-2*31,min(q*flag, 2**31-1))"
   ],
   "outputs": [],
   "metadata": {}
  }
 ],
 "metadata": {
  "orig_nbformat": 4,
  "language_info": {
   "name": "python",
   "version": "3.8.8",
   "mimetype": "text/x-python",
   "codemirror_mode": {
    "name": "ipython",
    "version": 3
   },
   "pygments_lexer": "ipython3",
   "nbconvert_exporter": "python",
   "file_extension": ".py"
  },
  "kernelspec": {
   "name": "python3",
   "display_name": "Python 3.8.8 64-bit ('base': conda)"
  },
  "interpreter": {
   "hash": "dca0ade3e726a953b501b15e8e990130d2b7799f14cfd9f4271676035ebe5511"
  }
 },
 "nbformat": 4,
 "nbformat_minor": 2
}