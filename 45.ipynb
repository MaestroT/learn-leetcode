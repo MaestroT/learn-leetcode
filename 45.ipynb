{
 "cells": [
  {
   "cell_type": "markdown",
   "metadata": {},
   "source": [
    "## 45. 跳跃游戏 II\n",
    "给你一个非负整数数组 nums ，你最初位于数组的第一个位置。\n",
    "\n",
    "数组中的每个元素代表你在该位置可以跳跃的最大长度。\n",
    "\n",
    "你的目标是使用最少的跳跃次数到达数组的最后一个位置。\n",
    "\n",
    "假设你总是可以到达数组的最后一个位置。\n",
    "\n",
    " \n",
    "\n",
    "示例 1:\n",
    "\n",
    "输入: nums = [2,3,1,1,4]\n",
    "输出: 2\n",
    "解释: 跳到最后一个位置的最小跳跃数是 2。\n",
    "     从下标为 0 跳到下标为 1 的位置，跳 1 步，然后跳 3 步到达数组的最后一个位置。\n",
    "示例 2:\n",
    "\n",
    "输入: nums = [2,3,0,1,4]\n",
    "输出: 2\n",
    " \n",
    "\n",
    "提示:\n",
    "\n",
    "1 <= nums.length <= 104\n",
    "0 <= nums[i] <= 1000\n",
    "\n",
    "来源：力扣（LeetCode）\n",
    "链接：https://leetcode-cn.com/problems/jump-game-ii"
   ]
  },
  {
   "cell_type": "code",
   "execution_count": null,
   "metadata": {},
   "outputs": [],
   "source": [
    "class Solution:\n",
    "    def jump(self, nums) -> int:\n",
    "        if nums is None or len(nums) == 0:\n",
    "            return 0\n",
    "        step = 0\n",
    "        left = 0\n",
    "        right = 0\n",
    "        for i in range(len(nums)-1):\n",
    "            right = max(right, i+nums[i])\n",
    "            if i == left:\n",
    "                step += 1\n",
    "                left = right\n",
    "        return step"
   ]
  }
 ],
 "metadata": {
  "interpreter": {
   "hash": "40d3a090f54c6569ab1632332b64b2c03c39dcf918b08424e98f38b5ae0af88f"
  },
  "kernelspec": {
   "display_name": "Python 3.8.8 ('base')",
   "language": "python",
   "name": "python3"
  },
  "language_info": {
   "name": "python",
   "version": "3.8.8"
  },
  "orig_nbformat": 4
 },
 "nbformat": 4,
 "nbformat_minor": 2
}
