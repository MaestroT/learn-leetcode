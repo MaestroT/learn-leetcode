{
 "cells": [
  {
   "cell_type": "markdown",
   "metadata": {},
   "source": [
    "## 59. 螺旋矩阵 II\n",
    "给你一个正整数 n ，生成一个包含 1 到 n2 所有元素，且元素按顺时针顺序螺旋排列的 n x n 正方形矩阵 matrix 。\n",
    "\n",
    "输入：n = 3\n",
    "输出：[[1,2,3],[8,9,4],[7,6,5]]"
   ]
  },
  {
   "cell_type": "code",
   "execution_count": null,
   "metadata": {},
   "outputs": [],
   "source": [
    "class Solution:\n",
    "    def generateMatrix(self, n: int):\n",
    "        matrix = []\n",
    "        for i in range(n):\n",
    "            matrix.append([0 for j in range(n)])\n",
    "\n",
    "        rowBegin = 0\n",
    "        rowEnd = n - 1\n",
    "        colBegin = 0\n",
    "        colEnd = n - 1\n",
    "        number = 1\n",
    "\n",
    "        while rowBegin <= rowEnd and colBegin <= colEnd:\n",
    "            for i in range(colBegin, colEnd+1):\n",
    "                matrix[rowBegin][i] = number\n",
    "                number += 1\n",
    "            rowBegin += 1\n",
    "\n",
    "            for i in range(rowBegin, rowEnd+1):\n",
    "                matrix[i][colEnd] = number\n",
    "                number += 1\n",
    "            colEnd -= 1\n",
    "\n",
    "            if rowBegin <= rowEnd:\n",
    "                for i in range(colEnd, colBegin-1, -1):\n",
    "                    matrix[rowEnd][i] = number\n",
    "                    number += 1\n",
    "                rowEnd -= 1\n",
    "\n",
    "            if colBegin <= colEnd:\n",
    "                for i in range(rowEnd, rowBegin-1, -1):\n",
    "                    matrix[i][colBegin] = number\n",
    "                    number += 1\n",
    "                colBegin += 1\n",
    "\n",
    "        return matrix"
   ]
  }
 ],
 "metadata": {
  "interpreter": {
   "hash": "40d3a090f54c6569ab1632332b64b2c03c39dcf918b08424e98f38b5ae0af88f"
  },
  "kernelspec": {
   "display_name": "Python 3.8.8 ('base')",
   "language": "python",
   "name": "python3"
  },
  "language_info": {
   "name": "python",
   "version": "3.8.8"
  },
  "orig_nbformat": 4
 },
 "nbformat": 4,
 "nbformat_minor": 2
}
