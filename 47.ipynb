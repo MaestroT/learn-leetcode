{
 "cells": [
  {
   "cell_type": "markdown",
   "metadata": {},
   "source": [
    "## 47. 全排列 II\n",
    "给定一个可包含重复数字的序列 nums ，按任意顺序 返回所有不重复的全排列。\n",
    "\n",
    " \n",
    "\n",
    "示例 1：\n",
    "\n",
    "输入：nums = [1,1,2]\n",
    "输出：\n",
    "[[1,1,2],\n",
    " [1,2,1],\n",
    " [2,1,1]]\n",
    "\n",
    "示例 2：\n",
    "\n",
    "输入：nums = [1,2,3]\n",
    "输出：[[1,2,3],[1,3,2],[2,1,3],[2,3,1],[3,1,2],[3,2,1]]\n",
    " \n",
    "\n",
    "提示：\n",
    "\n",
    "1 <= nums.length <= 8\n",
    "-10 <= nums[i] <= 10\n",
    "\n",
    "来源：力扣（LeetCode）\n",
    "链接：https://leetcode-cn.com/problems/permutations-ii"
   ]
  },
  {
   "cell_type": "code",
   "execution_count": null,
   "metadata": {},
   "outputs": [],
   "source": [
    "class Solution:\n",
    "    def permute(self, nums):\n",
    "        if len(nums) <= 1:\n",
    "            return [nums]\n",
    "        \n",
    "        ans = []\n",
    "\n",
    "        for i, num in enumerate(nums):\n",
    "            n = nums[:i] + nums[i+1:]\n",
    "            for y in self.permute(n):\n",
    "                ans.append([num]+y)\n",
    "\n",
    "        return ans\n",
    "\n",
    "    def permuteUnique(self, nums):\n",
    "\n",
    "        ans = self.permute(nums)\n",
    "        list2=[]\n",
    "        [list2.append(i) for i in ans if not i in list2]\n",
    "\n",
    "        return list2"
   ]
  },
  {
   "cell_type": "code",
   "execution_count": null,
   "metadata": {},
   "outputs": [],
   "source": [
    "class Solution:\n",
    "\n",
    "    def permuteUnique(self, nums):\n",
    "        if len(nums)==0:\n",
    "            return [[]]\n",
    "        res = [[]]\n",
    "\n",
    "        for n in nums:\n",
    "            temp = []\n",
    "            for r in res:\n",
    "                for i in range(len(r)+1):\n",
    "                    temp.append(r[:i]+[n]+r[i:])\n",
    "                    if i < len(r) and r[i]==n:\n",
    "                        break\n",
    "            res = temp\n",
    "        return res"
   ]
  }
 ],
 "metadata": {
  "interpreter": {
   "hash": "40d3a090f54c6569ab1632332b64b2c03c39dcf918b08424e98f38b5ae0af88f"
  },
  "kernelspec": {
   "display_name": "Python 3.8.8 ('base')",
   "language": "python",
   "name": "python3"
  },
  "language_info": {
   "name": "python",
   "version": "3.8.8"
  },
  "orig_nbformat": 4
 },
 "nbformat": 4,
 "nbformat_minor": 2
}
