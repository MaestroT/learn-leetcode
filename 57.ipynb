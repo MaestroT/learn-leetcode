{
 "cells": [
  {
   "cell_type": "markdown",
   "metadata": {},
   "source": [
    "## 57. 插入区间\n",
    "给你一个 无重叠的 ，按照区间起始端点排序的区间列表。\n",
    "\n",
    "在列表中插入一个新的区间，你需要确保列表中的区间仍然有序且不重叠（如果有必要的话，可以合并区间）。\n",
    "\n",
    " \n",
    "\n",
    "示例 1：\n",
    "\n",
    "输入：intervals = [[1,3],[6,9]], newInterval = [2,5]\n",
    "输出：[[1,5],[6,9]]\n",
    "\n",
    "示例 2：\n",
    "\n",
    "输入：intervals = [[1,2],[3,5],[6,7],[8,10],[12,16]], newInterval = [4,8]\n",
    "输出：[[1,2],[3,10],[12,16]]\n",
    "解释：这是因为新的区间 [4,8] 与 [3,5],[6,7],[8,10] 重叠。\n",
    "\n",
    "示例 3：\n",
    "\n",
    "输入：intervals = [], newInterval = [5,7]\n",
    "输出：[[5,7]]\n",
    "\n",
    "示例 4：\n",
    "\n",
    "输入：intervals = [[1,5]], newInterval = [2,3]\n",
    "输出：[[1,5]]\n",
    "\n",
    "示例 5：\n",
    "\n",
    "输入：intervals = [[1,5]], newInterval = [2,7]\n",
    "输出：[[1,7]]\n",
    "\n",
    "来源：力扣（LeetCode）\n",
    "链接：https://leetcode-cn.com/problems/insert-interval、"
   ]
  },
  {
   "cell_type": "code",
   "execution_count": null,
   "metadata": {},
   "outputs": [],
   "source": [
    "class Solution:\n",
    "    def insert(self, intervals: List[List[int]], newInterval: List[int]) -> List[List[int]]:\n",
    "        res = []\n",
    "        index = 0\n",
    "        while(index < len(intervals) and newInterval[0]>intervals[index][0]):\n",
    "            index += 1\n",
    "        intervals.insert(index, newInterval)\n",
    "        result = []\n",
    "\n",
    "        i = 0\n",
    "        while i < len(intervals):\n",
    "            cur_start = intervals[i][0]\n",
    "            cur_end = intervals[i][1]\n",
    "            if result:\n",
    "                prev_start, pre_end = result[-1]\n",
    "                hi = min(pre_end, cur_end)\n",
    "                lo = max(prev_start, cur_start)\n",
    "                if lo <= hi:\n",
    "                    if cur_end > pre_end:\n",
    "                        result[-1][1] = cur_end\n",
    "                else:\n",
    "                    result.append(intervals[i])\n",
    "\n",
    "            else:\n",
    "                result.append(intervals[i])\n",
    "            i += 1\n",
    "\n",
    "        return result"
   ]
  }
 ],
 "metadata": {
  "interpreter": {
   "hash": "40d3a090f54c6569ab1632332b64b2c03c39dcf918b08424e98f38b5ae0af88f"
  },
  "kernelspec": {
   "display_name": "Python 3.8.8 ('base')",
   "language": "python",
   "name": "python3"
  },
  "language_info": {
   "name": "python",
   "version": "3.8.8"
  },
  "orig_nbformat": 4
 },
 "nbformat": 4,
 "nbformat_minor": 2
}
