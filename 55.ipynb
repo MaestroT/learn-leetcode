{
 "cells": [
  {
   "cell_type": "markdown",
   "metadata": {},
   "source": [
    "## 55. 跳跃游戏\n",
    "给定一个非负整数数组 nums ，你最初位于数组的 第一个下标 。\n",
    "\n",
    "数组中的每个元素代表你在该位置可以跳跃的最大长度。\n",
    "\n",
    "判断你是否能够到达最后一个下标。\n",
    "\n",
    " \n",
    "\n",
    "示例 1：\n",
    "\n",
    "输入：nums = [2,3,1,1,4]\n",
    "输出：true\n",
    "解释：可以先跳 1 步，从下标 0 到达下标 1, 然后再从下标 1 跳 3 步到达最后一个下标。\n",
    "\n",
    "示例 2：\n",
    "\n",
    "输入：nums = [3,2,1,0,4]\n",
    "输出：false\n",
    "解释：无论怎样，总会到达下标为 3 的位置。但该下标的最大跳跃长度是 0 ， 所以永远不可能到达最后一个下标。\n",
    " \n",
    "\n",
    "提示：\n",
    "\n",
    "1 <= nums.length <= 3 * 104\n",
    "0 <= nums[i] <= 105\n",
    "\n",
    "来源：力扣（LeetCode）\n",
    "链接：https://leetcode-cn.com/problems/jump-game"
   ]
  },
  {
   "cell_type": "code",
   "execution_count": null,
   "metadata": {},
   "outputs": [],
   "source": [
    "class Solution:\n",
    "    def canJump(self, nums) -> bool:\n",
    "        right = 0 # right max\n",
    "        n = len(nums)\n",
    "        for i in range(n-1):\n",
    "            if right < i:\n",
    "                return False\n",
    "            right = max(right, nums[i]+i)\n",
    "        return right > n-2"
   ]
  }
 ],
 "metadata": {
  "language_info": {
   "name": "python"
  },
  "orig_nbformat": 4
 },
 "nbformat": 4,
 "nbformat_minor": 2
}
