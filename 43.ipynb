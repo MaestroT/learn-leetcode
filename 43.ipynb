{
 "cells": [
  {
   "cell_type": "markdown",
   "metadata": {},
   "source": [
    "## 43. 字符串相乘\n",
    "给定两个以字符串形式表示的非负整数 num1 和 num2，返回 num1 和 num2 的乘积，它们的乘积也表示为字符串形式。\n",
    "\n",
    "注意：不能使用任何内置的 BigInteger 库或直接将输入转换为整数。\n",
    "\n",
    " \n",
    "\n",
    "示例 1:\n",
    "\n",
    "输入: num1 = \"2\", num2 = \"3\"\n",
    "输出: \"6\"\n",
    "\n",
    "示例 2:\n",
    "\n",
    "输入: num1 = \"123\", num2 = \"456\"\n",
    "输出: \"56088\"\n",
    " \n",
    "\n",
    "提示：\n",
    "\n",
    "1 <= num1.length, num2.length <= 200\n",
    "num1 和 num2 只能由数字组成。\n",
    "num1 和 num2 都不包含任何前导零，除了数字0本身。\n",
    "\n",
    "来源：力扣（LeetCode）\n",
    "链接：https://leetcode-cn.com/problems/multiply-strings"
   ]
  },
  {
   "cell_type": "code",
   "execution_count": 1,
   "metadata": {},
   "outputs": [],
   "source": [
    "class Solution:\n",
    "    def multiply(self, num1: str, num2: str) -> str:\n",
    "        return str(int(num1)*int(num2))"
   ]
  },
  {
   "cell_type": "code",
   "execution_count": null,
   "metadata": {},
   "outputs": [],
   "source": [
    "class Solution:\n",
    "    def multiply(self, num1: str, num2: str) -> str:\n",
    "        if num1 == '0' or num2 == '0':\n",
    "            return '0'\n",
    "        if len(num1) < len(num2):\n",
    "            num1, num2 = num2, num1\n",
    "        num1 = num1[::-1]\n",
    "        num2 = num2[::-1]\n",
    "        addlist = []\n",
    "        for i in range(len(num2)):\n",
    "            for j in range(len(num1)):\n",
    "                new_2 = int(num2[i]+'0'*i)\n",
    "                new_1 = int(num2[j]+'0'*j)\n",
    "                addlist.append(new_1*new_2)\n",
    "        ans = sum(addlist)\n",
    "        return str(ans)"
   ]
  }
 ],
 "metadata": {
  "interpreter": {
   "hash": "40d3a090f54c6569ab1632332b64b2c03c39dcf918b08424e98f38b5ae0af88f"
  },
  "kernelspec": {
   "display_name": "Python 3.8.8 64-bit ('base': conda)",
   "language": "python",
   "name": "python3"
  },
  "language_info": {
   "codemirror_mode": {
    "name": "ipython",
    "version": 3
   },
   "file_extension": ".py",
   "mimetype": "text/x-python",
   "name": "python",
   "nbconvert_exporter": "python",
   "pygments_lexer": "ipython3",
   "version": "3.8.8"
  },
  "orig_nbformat": 4
 },
 "nbformat": 4,
 "nbformat_minor": 2
}
