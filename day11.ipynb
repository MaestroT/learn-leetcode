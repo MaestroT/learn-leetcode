{
 "cells": [
  {
   "cell_type": "markdown",
   "source": [
    "## Remove Nth Node From End of List\n",
    "Given a linked list, remove the n th node from teh end of list and return its head.\n",
    "\n",
    "- 1-2-3-4-5 n=2\n",
    "- 1-2-3-5"
   ],
   "metadata": {}
  },
  {
   "cell_type": "code",
   "execution_count": 3,
   "source": [
    "class ListNode(object):\n",
    "    def __init__(self, x):\n",
    "        self.val = x\n",
    "        self.next = None\n",
    "\n",
    "def removeNthFromEnd(head, n):\n",
    "    dummy = ListNode(0)\n",
    "    dummy.next = head\n",
    "    slow = fast = dummy\n",
    "\n",
    "    for _ in range(n):\n",
    "        fast = fast.next\n",
    "\n",
    "    while fast.next:\n",
    "        slow = slow.next\n",
    "        fast = fast.next\n",
    "\n",
    "    slow.next = slow.next.next\n",
    "\n",
    "    return dummy.next"
   ],
   "outputs": [],
   "metadata": {}
  }
 ],
 "metadata": {
  "orig_nbformat": 4,
  "language_info": {
   "name": "python",
   "version": "3.8.2",
   "mimetype": "text/x-python",
   "codemirror_mode": {
    "name": "ipython",
    "version": 3
   },
   "pygments_lexer": "ipython3",
   "nbconvert_exporter": "python",
   "file_extension": ".py"
  },
  "kernelspec": {
   "name": "python3",
   "display_name": "Python 3.8.2 64-bit"
  },
  "interpreter": {
   "hash": "31f2aee4e71d21fbe5cf8b01ff0e069b9275f58929596ceb00d14d90e3e16cd6"
  }
 },
 "nbformat": 4,
 "nbformat_minor": 2
}