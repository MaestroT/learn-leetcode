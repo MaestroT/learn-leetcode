{
 "cells": [
  {
   "cell_type": "markdown",
   "source": [
    "## Letter Combinations of a Phone Number\n",
    "Given a string containing digits from 2-9 inclusive, return all possible letter combinations that the number could represent.\n",
    "\n",
    "A mapping of digit to letters is given below. Note that 1 dose not map to any letters.\n",
    "\n",
    "- input: 23\n",
    "- output: [\"ad\", \"ae\", \"af\", \"bd\", \"be\", \"bf\", \"cd\", \"ce\", \"cf\"]\n",
    "\n",
    "- 2: abc\n",
    "- 3: def\n",
    "- 4: ghi\n",
    "- 5: jkl\n",
    "- 6: mno\n",
    "- 7: pqrs\n",
    "- 8: tuv\n",
    "- 9: wxyz"
   ],
   "metadata": {}
  },
  {
   "cell_type": "code",
   "execution_count": 2,
   "source": [
    "def letterCombinatiojs(digits):\n",
    "    if len(digits) == 0:\n",
    "        return []\n",
    "\n",
    "    digit_map = {\n",
    "        2: \"abc\",\n",
    "        3: \"def\",\n",
    "        4: \"ghi\",\n",
    "        5: \"jkl\",\n",
    "        6: \"mno\",\n",
    "        7: \"pqrzs\",\n",
    "        8: \"tuv\",\n",
    "        9: \"wxy\"\n",
    "    }\n",
    "\n",
    "    result = [\"\"]\n",
    "\n",
    "    for digit in digits:\n",
    "        tmp_list = []\n",
    "        for ch in digit_map[int(digit)]:\n",
    "            for str in result:\n",
    "                tmp_list.append(str+ch)\n",
    "        result = tmp_list\n",
    "\n",
    "    return result"
   ],
   "outputs": [],
   "metadata": {}
  }
 ],
 "metadata": {
  "orig_nbformat": 4,
  "language_info": {
   "name": "python",
   "version": "3.8.2",
   "mimetype": "text/x-python",
   "codemirror_mode": {
    "name": "ipython",
    "version": 3
   },
   "pygments_lexer": "ipython3",
   "nbconvert_exporter": "python",
   "file_extension": ".py"
  },
  "kernelspec": {
   "name": "python3",
   "display_name": "Python 3.8.2 64-bit"
  },
  "interpreter": {
   "hash": "31f2aee4e71d21fbe5cf8b01ff0e069b9275f58929596ceb00d14d90e3e16cd6"
  }
 },
 "nbformat": 4,
 "nbformat_minor": 2
}