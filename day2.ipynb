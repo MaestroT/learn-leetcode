{
 "cells": [
  {
   "cell_type": "markdown",
   "source": [
    "### Longest Substring Without Repeating Characters\n",
    "Given a string, find the length of the longest substring without repeating characters.\n",
    "- input: abcabcbb\n",
    "- outbut: 3\n",
    "- (abc)"
   ],
   "metadata": {}
  },
  {
   "cell_type": "code",
   "execution_count": 1,
   "source": [
    "def lengthOfLongestSubstring(s):\n",
    "    d = {}   # record the index of the non repeat character\n",
    "    start = -1\n",
    "    max = 0\n",
    "\n",
    "    for i in range(len(s)):\n",
    "        # s[i] in d\n",
    "        if s[i] in d and d[s[i]] > start:\n",
    "            start = d[s[i]]\n",
    "            d[s[i]] = i\n",
    "        else:\n",
    "            d[s[i]] = i\n",
    "            if i - start > max:\n",
    "                max = i - start\n",
    "        \n",
    "    return max\n"
   ],
   "outputs": [],
   "metadata": {}
  },
  {
   "cell_type": "markdown",
   "source": [
    "### Remove Covered Intervals\n",
    "Given a list of intervals, remove all intervals that are covered by another interval in the list. \n",
    "Interval [a,b) is covered by interval [c,d) if and only if c <= a and b <= d\n",
    "After doing so, return the number of remaining intevals. \n",
    "\n",
    "- input: [[1,4],[3,6],[2,8]]\n",
    "- output: 2\n",
    "- [3,6] is covered by [2,8] and it is removed\n",
    "\n",
    "constraints:\n",
    " - 1 <= intervals.length <= 1000\n",
    " - intervals[i].length == 2\n",
    " - 0 <= intervals[i][0] < intervals[i][1] <= 10^5\n",
    " - all the intervals are unique"
   ],
   "metadata": {}
  },
  {
   "cell_type": "code",
   "execution_count": 2,
   "source": [
    "def removeCoveredIntervals(intervals):\n",
    "    n = len(intervals)\n",
    "\n",
    "    def check(j):\n",
    "        for i in range(n):\n",
    "            if i == j: continue\n",
    "            if intervals[i][0] <= intervals[j][0] and intervals[j][1] <= intervals[i][1]:\n",
    "                return True\n",
    "        return False\n",
    "\n",
    "    return len([i for i in range(n) if not check(i)])"
   ],
   "outputs": [],
   "metadata": {}
  },
  {
   "cell_type": "markdown",
   "source": [
    "### Complement of Base 10 integer\n",
    "Every non-negative integer N has a binary representation. For example, 5 can be represented as \"101\" in binary. Note that except for N=0, there are no leading zeros in any binary representation.\n",
    "\n",
    "The complement of a binary representation is the number in binary you get when changing every 1 to 0 and 0 to a 1. For example the complement of \"101\" in binary is \"010\" in binary.\n",
    "\n",
    "For a given number N in base-10, return the complement of it's binary representation as a base-10 integer\n",
    "0 <= N < 10^9\n",
    "\n",
    "- input: 5\n",
    "- output: 2"
   ],
   "metadata": {}
  },
  {
   "cell_type": "code",
   "execution_count": 3,
   "source": [
    "def bitwiseComplement(N):\n",
    "    for i in range(30, -1, -1):\n",
    "        if ((1 << i ) & N):\n",
    "            return ((1 << (i+1)) - 1 )^ N\n",
    "    return 1"
   ],
   "outputs": [],
   "metadata": {}
  },
  {
   "cell_type": "code",
   "execution_count": 4,
   "source": [
    "bitwiseComplement(10)"
   ],
   "outputs": [
    {
     "output_type": "execute_result",
     "data": {
      "text/plain": [
       "5"
      ]
     },
     "metadata": {},
     "execution_count": 4
    }
   ],
   "metadata": {}
  },
  {
   "cell_type": "code",
   "execution_count": 5,
   "source": [
    "bitwiseComplement(0)"
   ],
   "outputs": [
    {
     "output_type": "execute_result",
     "data": {
      "text/plain": [
       "1"
      ]
     },
     "metadata": {},
     "execution_count": 5
    }
   ],
   "metadata": {}
  },
  {
   "cell_type": "code",
   "execution_count": null,
   "source": [],
   "outputs": [],
   "metadata": {}
  }
 ],
 "metadata": {
  "orig_nbformat": 4,
  "language_info": {
   "name": "python",
   "version": "3.8.2",
   "mimetype": "text/x-python",
   "codemirror_mode": {
    "name": "ipython",
    "version": 3
   },
   "pygments_lexer": "ipython3",
   "nbconvert_exporter": "python",
   "file_extension": ".py"
  },
  "kernelspec": {
   "name": "python3",
   "display_name": "Python 3.8.2 64-bit"
  },
  "interpreter": {
   "hash": "31f2aee4e71d21fbe5cf8b01ff0e069b9275f58929596ceb00d14d90e3e16cd6"
  }
 },
 "nbformat": 4,
 "nbformat_minor": 2
}