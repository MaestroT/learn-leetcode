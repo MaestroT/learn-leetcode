{
 "cells": [
  {
   "cell_type": "markdown",
   "metadata": {},
   "source": [
    "## 52. N皇后 II\n",
    "n 皇后问题 研究的是如何将 n 个皇后放置在 n × n 的棋盘上，并且使皇后彼此之间不能相互攻击。\n",
    "\n",
    "给你一个整数 n ，返回 n 皇后问题 不同的解决方案的数量。"
   ]
  },
  {
   "cell_type": "code",
   "execution_count": null,
   "metadata": {},
   "outputs": [],
   "source": [
    "class Solution:\n",
    "    def totalNQueens(self, n: int) -> int:\n",
    "        self.res = []\n",
    "        trans = lambda path: ['.'*i + 'Q' + '.'*(len(path)-1-i) for i in path]\n",
    "        def rec(n, path, pos):\n",
    "            if len(path) == n:\n",
    "                self.res.append(trans(path))\n",
    "                return\n",
    "            l, r, m = pos\n",
    "            l, r = [i-1 for i in l], [i+1 for i in r]\n",
    "            total = l+r+m\n",
    "            for cant in range(n):\n",
    "                if cant in total:\n",
    "                    continue\n",
    "                rec(n, path+[cant], [l+[cant], r+[cant], m+[cant]])\n",
    "\n",
    "        rec(n, [], [[],[],[]])\n",
    "        return len(self.res)"
   ]
  },
  {
   "cell_type": "code",
   "execution_count": null,
   "metadata": {},
   "outputs": [],
   "source": [
    "class Solution:\n",
    "    def totalNQueens(self, n: int) -> int:\n",
    "        self.res = 0\n",
    "        # trans = lambda path: ['.'*i + 'Q' + '.'*(len(path)-1-i) for i in path]\n",
    "        def rec(path, pos):\n",
    "            if len(path) == n:\n",
    "                self.res+=1\n",
    "                return\n",
    "            l, r = pos\n",
    "            l, r = [i-1 for i in l], [i+1 for i in r]\n",
    "            total = l+r+path\n",
    "            for cant in range(n):\n",
    "                if cant in total:\n",
    "                    continue\n",
    "                rec(n, path+[cant], [l+[cant], r+[cant]])\n",
    "\n",
    "        for i in range(n//2):\n",
    "            rec([i], [[i],[i]])\n",
    "        self.res *= 2\n",
    "        if n%2:\n",
    "            rec([n//2], [[n//2],[n//2]])\n",
    "        return len(self.res)"
   ]
  }
 ],
 "metadata": {
  "language_info": {
   "name": "python"
  },
  "orig_nbformat": 4
 },
 "nbformat": 4,
 "nbformat_minor": 2
}
