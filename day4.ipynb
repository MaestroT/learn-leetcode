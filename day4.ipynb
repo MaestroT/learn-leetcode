{
 "cells": [
  {
   "cell_type": "markdown",
   "source": [
    "## Reverse Interger\n",
    "Given a 32-bit signed interger, reverse digits of an integer.\n",
    "- input: 123\n",
    "- output: 321\n",
    "- input: 120\n",
    "- output: 21"
   ],
   "metadata": {}
  },
  {
   "cell_type": "code",
   "execution_count": 5,
   "source": [
    "def reverse(x):\n",
    "    num = 0\n",
    "\n",
    "    a = abs(x)\n",
    "\n",
    "    while(a!=0):\n",
    "        '''\n",
    "        123\n",
    "        a=123\n",
    "        num=0\n",
    "        First iteration: a=12 num=3\n",
    "        Second iteration: a=1 num=32\n",
    "        Third iteration: a=0 num=321\n",
    "        '''\n",
    "        temp = a % 10\n",
    "        num = num * 10 + temp\n",
    "        a = int(a/10)\n",
    "\n",
    "    if x>0 and num < 2147483647: \n",
    "        return num\n",
    "    elif x<0 and num <= 2147483648:\n",
    "        return -num\n",
    "    else:\n",
    "        return 0\n"
   ],
   "outputs": [],
   "metadata": {}
  },
  {
   "cell_type": "markdown",
   "source": [
    "## String to Integer (atoi)\n",
    "Implement `atoi` which converts a string to an integer\n",
    "\n",
    "The function first discards as many whitespace characters as necessary until the first non-whitespace character is found. Then, starting from this character, takes an optional initail plus or minus sign followed by as many numerical digits as possible, and interprets them as a numerical value.\n",
    "\n",
    "The string can conation additional characters after those that form the integral number, which are ignored and have no effect on the behavior of this function.\n",
    "\n",
    "If the first sequence of non-whitespace characters in str is not a valid intergral number, of if no such sequences exists beacuse either str is empty or it contains only whitespaces characters, no conversion is performed.\n",
    "\n",
    "If no valid conversion could be performed, a zero value is returned.\n",
    "\n",
    "- input \"42\"\n",
    "- output 42\n",
    "- input \"  -42\"\n",
    "- output 42\n",
    "- input \"4193 with words\"\n",
    "- output 4193\n",
    "- input \"words with 987\"\n",
    "- output 0"
   ],
   "metadata": {}
  },
  {
   "cell_type": "code",
   "execution_count": 8,
   "source": [
    "def myAtoi(str):\n",
    "    stripS = str.strip()\n",
    "\n",
    "    if stripS == \"\" or stripS == \"-\" or stripS==\"+\":\n",
    "        return 0\n",
    "    \n",
    "    import re\n",
    "\n",
    "    s1 = re.match('[^\\d]+', (stripS.lstrip(\"-\")).lstrip(\"+\"))\n",
    "    \n",
    "    if s1 != None:\n",
    "        return 0 \n",
    "    else:\n",
    "        s1 = re.search('\\-*\\+*\\d+', stripS).group()\n",
    "\n",
    "    if s1[0:2]  == \"--\" or s1[0:2] == \"-+\" or s1[0:2] == \"++\":\n",
    "        return 0\n",
    "\n",
    "    result = int(s1)\n",
    "    if result > 0:\n",
    "        return 2147483647 if result > 2147483647 else result\n",
    "    else:\n",
    "        return -2147483648 if result < -2147483648 else result"
   ],
   "outputs": [],
   "metadata": {}
  },
  {
   "cell_type": "code",
   "execution_count": null,
   "source": [],
   "outputs": [],
   "metadata": {}
  }
 ],
 "metadata": {
  "orig_nbformat": 4,
  "language_info": {
   "name": "python",
   "version": "3.8.2",
   "mimetype": "text/x-python",
   "codemirror_mode": {
    "name": "ipython",
    "version": 3
   },
   "pygments_lexer": "ipython3",
   "nbconvert_exporter": "python",
   "file_extension": ".py"
  },
  "kernelspec": {
   "name": "python3",
   "display_name": "Python 3.8.2 64-bit"
  },
  "interpreter": {
   "hash": "31f2aee4e71d21fbe5cf8b01ff0e069b9275f58929596ceb00d14d90e3e16cd6"
  }
 },
 "nbformat": 4,
 "nbformat_minor": 2
}