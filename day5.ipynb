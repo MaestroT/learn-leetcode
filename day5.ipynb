{
 "cells": [
  {
   "cell_type": "markdown",
   "source": [
    "## Palindrome Number\n",
    "Determine whether an integer is a palindrome. An integer is a palindrome when it reads the same backwards as forward.\n",
    "- input 121\n",
    "- output true\n",
    "- input -121\n",
    "- output false"
   ],
   "metadata": {}
  },
  {
   "cell_type": "code",
   "execution_count": 1,
   "source": [
    "def isPalindrome(x):\n",
    "    num = 0\n",
    "    a = abs(x)\n",
    "    while(a!=0):\n",
    "        temp = a % 10\n",
    "        num = num * 10 + temp\n",
    "        a = a // 10\n",
    "    if x >= 0 and x == num:\n",
    "        return True\n",
    "    else:\n",
    "        return False"
   ],
   "outputs": [],
   "metadata": {}
  },
  {
   "cell_type": "markdown",
   "source": [
    "## 正则表达式匹配\n",
    "给定一个字符串s和一个字符规律p，实现一个支持'.'和'*'的正则表达式匹配\n",
    "\n",
    "'.'匹配任意单个字符\n",
    "'*'匹配零个或多个前面的那一个元素\n",
    "\n",
    "匹配指涵盖整个字符串s的\n",
    "\n",
    "s可能为空，且只包含从a-z的小写字母\n",
    "p可能为空，且只包含从a-z的小写字母，以及.和*\n",
    "\n",
    "s=\"aa\" p=\"a\"\n",
    "\n",
    "false"
   ],
   "metadata": {}
  },
  {
   "cell_type": "code",
   "execution_count": 5,
   "source": [
    "def isMatch(s,p):\n",
    "    c = [[False]*(len(s)+1) for _ in range(len(p)+1)]\n",
    "    c[0][0] = True\n",
    "    for i in range(1, len(p)):\n",
    "        c[i+1][0] = c[i-1][0] and p[i]=='*'\n",
    "    for i in range(len(p)):\n",
    "        for j in range(len(s)):\n",
    "            if p[i] == '*':\n",
    "                c[i+1][j+1] = c[i][j+1] or c[i-1][j+1]\n",
    "                if p[i-1]==s[j] or p[i-1]=='.':\n",
    "                    c[i+1][j+1] |= c[i+1][j]\n",
    "            else:\n",
    "                c[i+1][j+1] = c[i][j] and (p[i]==s[j] or p[i]=='.')\n",
    "    return c[-1][-1]\n"
   ],
   "outputs": [],
   "metadata": {}
  },
  {
   "cell_type": "code",
   "execution_count": 4,
   "source": [
    "False and False"
   ],
   "outputs": [
    {
     "output_type": "execute_result",
     "data": {
      "text/plain": [
       "False"
      ]
     },
     "metadata": {},
     "execution_count": 4
    }
   ],
   "metadata": {}
  },
  {
   "cell_type": "code",
   "execution_count": 6,
   "source": [
    "True or False"
   ],
   "outputs": [
    {
     "output_type": "execute_result",
     "data": {
      "text/plain": [
       "True"
      ]
     },
     "metadata": {},
     "execution_count": 6
    }
   ],
   "metadata": {}
  },
  {
   "cell_type": "code",
   "execution_count": 7,
   "source": [
    "True or True"
   ],
   "outputs": [
    {
     "output_type": "execute_result",
     "data": {
      "text/plain": [
       "True"
      ]
     },
     "metadata": {},
     "execution_count": 7
    }
   ],
   "metadata": {}
  },
  {
   "cell_type": "code",
   "execution_count": 8,
   "source": [
    "False or False"
   ],
   "outputs": [
    {
     "output_type": "execute_result",
     "data": {
      "text/plain": [
       "False"
      ]
     },
     "metadata": {},
     "execution_count": 8
    }
   ],
   "metadata": {}
  },
  {
   "cell_type": "code",
   "execution_count": 11,
   "source": [
    "b = False\n",
    "b |= True\n",
    "b"
   ],
   "outputs": [
    {
     "output_type": "execute_result",
     "data": {
      "text/plain": [
       "True"
      ]
     },
     "metadata": {},
     "execution_count": 11
    }
   ],
   "metadata": {}
  },
  {
   "cell_type": "code",
   "execution_count": 14,
   "source": [
    "b = False\n",
    "b |= False\n",
    "b"
   ],
   "outputs": [
    {
     "output_type": "execute_result",
     "data": {
      "text/plain": [
       "False"
      ]
     },
     "metadata": {},
     "execution_count": 14
    }
   ],
   "metadata": {}
  },
  {
   "cell_type": "code",
   "execution_count": 15,
   "source": [
    "b = True\n",
    "b |= False\n",
    "b"
   ],
   "outputs": [
    {
     "output_type": "execute_result",
     "data": {
      "text/plain": [
       "True"
      ]
     },
     "metadata": {},
     "execution_count": 15
    }
   ],
   "metadata": {}
  },
  {
   "cell_type": "code",
   "execution_count": 16,
   "source": [
    "b = True\n",
    "b |= True\n",
    "b"
   ],
   "outputs": [
    {
     "output_type": "execute_result",
     "data": {
      "text/plain": [
       "True"
      ]
     },
     "metadata": {},
     "execution_count": 16
    }
   ],
   "metadata": {}
  },
  {
   "cell_type": "code",
   "execution_count": null,
   "source": [],
   "outputs": [],
   "metadata": {}
  }
 ],
 "metadata": {
  "orig_nbformat": 4,
  "language_info": {
   "name": "python",
   "version": "3.8.2",
   "mimetype": "text/x-python",
   "codemirror_mode": {
    "name": "ipython",
    "version": 3
   },
   "pygments_lexer": "ipython3",
   "nbconvert_exporter": "python",
   "file_extension": ".py"
  },
  "kernelspec": {
   "name": "python3",
   "display_name": "Python 3.8.2 64-bit"
  },
  "interpreter": {
   "hash": "31f2aee4e71d21fbe5cf8b01ff0e069b9275f58929596ceb00d14d90e3e16cd6"
  }
 },
 "nbformat": 4,
 "nbformat_minor": 2
}