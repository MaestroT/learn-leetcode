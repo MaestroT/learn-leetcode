{
 "cells": [
  {
   "cell_type": "markdown",
   "metadata": {},
   "source": [
    "## 54. 螺旋矩阵\n",
    "给你一个 m 行 n 列的矩阵 matrix ，请按照 顺时针螺旋顺序 ，返回矩阵中的所有元素。\n",
    "\n",
    "输入：matrix = [[1,2,3],[4,5,6],[7,8,9]]\n",
    "输出：[1,2,3,6,9,8,7,4,5]\n",
    "\n",
    "提示：\n",
    "\n",
    "m == matrix.length\n",
    "n == matrix[i].length\n",
    "1 <= m, n <= 10\n",
    "-100 <= matrix[i][j] <= 100\n",
    "\n",
    "来源：力扣（LeetCode）\n",
    "链接：https://leetcode-cn.com/problems/spiral-matrix\n",
    "著作权归领扣网络所有。商业转载请联系官方授权，非商业转载请注明出处。"
   ]
  },
  {
   "cell_type": "code",
   "execution_count": null,
   "metadata": {},
   "outputs": [],
   "source": [
    "class Solution:\n",
    "    def spiralOrder(self, matrix: List[List[int]]) -> List[int]:\n",
    "        row = len(matrix)\n",
    "        if row == 0 or len(matrix[0]) == 0:\n",
    "            return []\n",
    "        col = len(matrix[0])\n",
    "        res = matrix[0]\n",
    "        if row > 1:\n",
    "            for i in range(1, row):\n",
    "                res.append(matrix[i][col-1])\n",
    "\n",
    "            for j in range(col-2, -1, -1):\n",
    "                res.append(matrix[row-1][j])\n",
    "\n",
    "            if col > 1:\n",
    "                for k in range(row-2, 0, -1):\n",
    "                    res.append(matrix[k][0])\n",
    "\n",
    "        M = []\n",
    "        for l in range(1, row-1):\n",
    "            t = matrix[l][1:-1]\n",
    "            M.append(t)\n"
   ]
  }
 ],
 "metadata": {
  "interpreter": {
   "hash": "40d3a090f54c6569ab1632332b64b2c03c39dcf918b08424e98f38b5ae0af88f"
  },
  "kernelspec": {
   "display_name": "Python 3.8.8 ('base')",
   "language": "python",
   "name": "python3"
  },
  "language_info": {
   "name": "python",
   "version": "3.8.8"
  },
  "orig_nbformat": 4
 },
 "nbformat": 4,
 "nbformat_minor": 2
}
