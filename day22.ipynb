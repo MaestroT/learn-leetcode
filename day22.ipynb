{
 "cells": [
  {
   "cell_type": "markdown",
   "source": [
    "## 串联所有单词的子串\n",
    "给定一个字符串s和一些长度相同的单词words。找出s中恰好可以由words中所有单词串联形成的子串的起始位置。\n",
    "- input s=\"barfoothefoobarman\" words=[\"foo\",\"bar\"]\n",
    "- output [0,9]"
   ],
   "metadata": {}
  },
  {
   "cell_type": "code",
   "execution_count": 3,
   "source": [
    "def findSubstring(s: str, words):\n",
    "    if len(words) == 0:\n",
    "        return []\n",
    "    unilen = len(words[0])\n",
    "    res, sets = [], {}\n",
    "    for word in words:\n",
    "        sets[word] = sets.setdefault(word, 0) + 1\n",
    "    for i in range(unilen):\n",
    "        count, start, match_set = len(words), i, {}\n",
    "        for j in range(i, len(s), unilen):\n",
    "            substr = s[j:j+unilen]\n",
    "            if substr in sets:\n",
    "                match_set[substr] = match_set.setdefault(substr, 0) + 1\n",
    "                count -= 1\n",
    "                while (match_set[substr]>sets[substr]):\n",
    "                    remove = s[start:start+unilen]\n",
    "                    start += unilen\n",
    "                    match_set[remove] -= 1\n",
    "                    count += 1\n",
    "                if count == 0:\n",
    "                    res.append(start)\n",
    "            else:\n",
    "                count, start, match_set = len(words), j+unilen, {}\n",
    "    return res"
   ],
   "outputs": [],
   "metadata": {}
  },
  {
   "cell_type": "code",
   "execution_count": 4,
   "source": [
    "s=\"foobarfoobarfooxx\"\n",
    "words=[\"foo\",\"foo\",\"bar\"]"
   ],
   "outputs": [],
   "metadata": {}
  },
  {
   "cell_type": "code",
   "execution_count": 5,
   "source": [
    "res = findSubstring(s,words)\n",
    "print(res)"
   ],
   "outputs": [
    {
     "output_type": "stream",
     "name": "stdout",
     "text": [
      "[0, 6]\n"
     ]
    }
   ],
   "metadata": {}
  }
 ],
 "metadata": {
  "orig_nbformat": 4,
  "language_info": {
   "name": "python",
   "version": "3.8.8",
   "mimetype": "text/x-python",
   "codemirror_mode": {
    "name": "ipython",
    "version": 3
   },
   "pygments_lexer": "ipython3",
   "nbconvert_exporter": "python",
   "file_extension": ".py"
  },
  "kernelspec": {
   "name": "python3",
   "display_name": "Python 3.8.8 64-bit ('base': conda)"
  },
  "interpreter": {
   "hash": "dca0ade3e726a953b501b15e8e990130d2b7799f14cfd9f4271676035ebe5511"
  }
 },
 "nbformat": 4,
 "nbformat_minor": 2
}