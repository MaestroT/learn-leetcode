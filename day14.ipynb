{
 "cells": [
  {
   "cell_type": "markdown",
   "source": [
    "## Generate Parentheses\n",
    "Given n pairs of parentheses, write a function to generate all combinations of well-formed parentheses.\n",
    "\n",
    "For example, given n = 3, a solution set is:\n",
    "[\"((()))\",\n",
    "\"(()())\",\n",
    "\"(())()\",\n",
    "\"()(())\",\n",
    "\"()()()\"\n",
    "]"
   ],
   "metadata": {}
  },
  {
   "cell_type": "code",
   "execution_count": 7,
   "source": [
    "def generateParenthesis(n):\n",
    "    if n == 0:\n",
    "        return []\n",
    "\n",
    "    result = []\n",
    "    helper(n, n, '', result)\n",
    "    return result\n",
    "\n",
    "def helper(l, r, item, result):#item是当前步返回值\n",
    "    if r < l:\n",
    "        return\n",
    "    if l == 0 and r == 0:\n",
    "        print(0)\n",
    "        result.append(item)\n",
    "    if l > 0:\n",
    "        print(\"l\"+str(l))\n",
    "        helper(l-1, r, item+'(', result)\n",
    "    if r > 0:\n",
    "        print(\"r\"+str(r))\n",
    "        helper(l, r-1, item+')', result)\n",
    "\n"
   ],
   "outputs": [],
   "metadata": {}
  },
  {
   "cell_type": "code",
   "execution_count": 8,
   "source": [
    "generateParenthesis(2)"
   ],
   "outputs": [
    {
     "output_type": "stream",
     "name": "stdout",
     "text": [
      "l2\n",
      "l1\n",
      "r2\n",
      "r1\n",
      "0\n",
      "r2\n",
      "l1\n",
      "r1\n",
      "0\n",
      "r1\n",
      "r2\n"
     ]
    },
    {
     "output_type": "execute_result",
     "data": {
      "text/plain": [
       "['(())', '()()']"
      ]
     },
     "metadata": {},
     "execution_count": 8
    }
   ],
   "metadata": {}
  },
  {
   "cell_type": "code",
   "execution_count": null,
   "source": [],
   "outputs": [],
   "metadata": {}
  }
 ],
 "metadata": {
  "orig_nbformat": 4,
  "language_info": {
   "name": "python",
   "version": "3.8.2",
   "mimetype": "text/x-python",
   "codemirror_mode": {
    "name": "ipython",
    "version": 3
   },
   "pygments_lexer": "ipython3",
   "nbconvert_exporter": "python",
   "file_extension": ".py"
  },
  "kernelspec": {
   "name": "python3",
   "display_name": "Python 3.8.2 64-bit"
  },
  "interpreter": {
   "hash": "31f2aee4e71d21fbe5cf8b01ff0e069b9275f58929596ceb00d14d90e3e16cd6"
  }
 },
 "nbformat": 4,
 "nbformat_minor": 2
}