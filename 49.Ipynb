{
 "cells": [
  {
   "cell_type": "markdown",
   "metadata": {},
   "source": [
    "## 49. 字母异位词分组\n",
    "\n",
    "给你一个字符串数组，请你将 字母异位词 组合在一起。可以按任意顺序返回结果列表。\n",
    "\n",
    "字母异位词 是由重新排列源单词的字母得到的一个新单词，所有源单词中的字母通常恰好只用一次。\n",
    "\n",
    " \n",
    "\n",
    "示例 1:\n",
    "\n",
    "输入: strs = [\"eat\", \"tea\", \"tan\", \"ate\", \"nat\", \"bat\"]\n",
    "输出: [[\"bat\"],[\"nat\",\"tan\"],[\"ate\",\"eat\",\"tea\"]]\n",
    "\n",
    "示例 2:\n",
    "\n",
    "输入: strs = [\"\"]\n",
    "输出: [[\"\"]]\n",
    "\n",
    "示例 3:\n",
    "\n",
    "输入: strs = [\"a\"]\n",
    "输出: [[\"a\"]]\n",
    "\n",
    "来源：力扣（LeetCode）\n",
    "链接：https://leetcode-cn.com/problems/group-anagrams"
   ]
  },
  {
   "cell_type": "code",
   "execution_count": null,
   "metadata": {},
   "outputs": [],
   "source": [
    "class Solution:\n",
    "    def groupAnagrams(self, strs):\n",
    "        solution = {}\n",
    "        if len(str) == 0:\n",
    "            return strs\n",
    "        else:\n",
    "            for i in range(len(strs)):\n",
    "                reg = strs[i]\n",
    "                regsort = \"\".join(sorted(reg)) # regsort=str(sorted(reg))\n",
    "                print(regsort)\n",
    "                if regsort in solution:\n",
    "                    solution[regsort].append(reg)\n",
    "                else:\n",
    "                    solution[regsort] = [reg]\n",
    "        return list(solution.values())\n"
   ]
  }
 ],
 "metadata": {
  "interpreter": {
   "hash": "40d3a090f54c6569ab1632332b64b2c03c39dcf918b08424e98f38b5ae0af88f"
  },
  "kernelspec": {
   "display_name": "Python 3.8.8 ('base')",
   "language": "python",
   "name": "python3"
  },
  "language_info": {
   "name": "python",
   "version": "3.8.8"
  },
  "orig_nbformat": 4
 },
 "nbformat": 4,
 "nbformat_minor": 2
}
