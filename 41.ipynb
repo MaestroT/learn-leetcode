{
 "cells": [
  {
   "cell_type": "markdown",
   "metadata": {},
   "source": [
    "## 缺失的第一个正数\n",
    "\n",
    "给你一个未排序的整数数组 nums ，请你找出其中没有出现的最小的正整数。\n",
    "\n",
    "请你实现时间复杂度为 O(n) 并且只使用常数级别额外空间的解决方案。\n",
    " \n",
    "\n",
    "示例：\n",
    "\n",
    "输入：nums = [1,2,0]\n",
    "输出：3\n",
    "示例 2：\n",
    "\n",
    "输入：nums = [3,4,-1,1]\n",
    "输出：2\n",
    "示例 3：\n",
    "\n",
    "输入：nums = [7,8,9,11,12]\n",
    "输出：1\n",
    " \n",
    "\n",
    "提示：\n",
    "\n",
    "1 <= nums.length <= 5 * 105\n",
    "-2^31 <= nums[i] <= 2^31 - 1\n",
    "\n",
    "来源：力扣（LeetCode）\n",
    "链接：https://leetcode-cn.com/problems/first-missing-positive"
   ]
  },
  {
   "cell_type": "code",
   "execution_count": 2,
   "metadata": {},
   "outputs": [],
   "source": [
    "def firstMissingPositive(nums) -> int:\n",
    "    # 数组长度为n\n",
    "    # 答案 [1, n+1]\n",
    "    # 第一轮遍历，剔除无关项，改为0\n",
    "    # 为使数组下标达到n+1， 末尾增加两个大数，2^31\n",
    "    nums += [2**31]*2\n",
    "    for i in range(len(nums)):\n",
    "        if nums[i] < 0 or nums[i] >= len(nums):\n",
    "            nums[i] = 0\n",
    "    # 第二轮遍历，标记，\n",
    "    # 将出现过的k（abs(k)）的下标位置的元素变为负数，以此标记出现过的k\n",
    "    # cur 位置为 k， nums[k] = -abs(nums[k])\n",
    "    # 若nums[k] = 0, nums[k] = -abs(cur)\n",
    "    for i in range(len(nums)):\n",
    "        cur = abs(nums[i])\n",
    "        if nums[cur] == 0:\n",
    "            nums[cur] = -cur\n",
    "        else:\n",
    "            nums[cur] = -abs(nums[cur])\n",
    "    # 第三轮遍历，遍历下标1 - n+1，当有元素大于等于0时，返回当前下标\n",
    "    for i in range(1, len(nums)):\n",
    "        if nums[i] >= 0:\n",
    "            return i"
   ]
  },
  {
   "cell_type": "code",
   "execution_count": 3,
   "metadata": {},
   "outputs": [
    {
     "name": "stdout",
     "output_type": "stream",
     "text": [
      "3\n"
     ]
    }
   ],
   "source": [
    "nums = [0,2,2,1,1]\n",
    "print(firstMissingPositive(nums))"
   ]
  }
 ],
 "metadata": {
  "interpreter": {
   "hash": "40d3a090f54c6569ab1632332b64b2c03c39dcf918b08424e98f38b5ae0af88f"
  },
  "kernelspec": {
   "display_name": "Python 3.8.8 64-bit ('base': conda)",
   "language": "python",
   "name": "python3"
  },
  "language_info": {
   "codemirror_mode": {
    "name": "ipython",
    "version": 3
   },
   "file_extension": ".py",
   "mimetype": "text/x-python",
   "name": "python",
   "nbconvert_exporter": "python",
   "pygments_lexer": "ipython3",
   "version": "3.8.8"
  },
  "orig_nbformat": 4
 },
 "nbformat": 4,
 "nbformat_minor": 2
}
