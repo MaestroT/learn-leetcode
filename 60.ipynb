{
 "cells": [
  {
   "cell_type": "markdown",
   "metadata": {},
   "source": [
    "## 60. 排列序列\n",
    "给出集合 [1,2,3,...,n]，其所有元素共有 n! 种排列。\n",
    "\n",
    "按大小顺序列出所有排列情况，并一一标记，当 n = 3 时, 所有排列如下：\n",
    "\n",
    "\"123\"\n",
    "\"132\"\n",
    "\"213\"\n",
    "\"231\"\n",
    "\"312\"\n",
    "\"321\"\n",
    "给定 n 和 k，返回第 k 个排列。\n",
    "\n",
    " \n",
    "\n",
    "示例 1：\n",
    "\n",
    "输入：n = 3, k = 3\n",
    "输出：\"213\"\n",
    "\n",
    "示例 2：\n",
    "\n",
    "输入：n = 4, k = 9\n",
    "输出：\"2314\"\n",
    "\n",
    "来源：力扣（LeetCode）\n",
    "链接：https://leetcode-cn.com/problems/permutation-sequence"
   ]
  },
  {
   "cell_type": "code",
   "execution_count": null,
   "metadata": {},
   "outputs": [],
   "source": [
    "class Solution:\n",
    "    def getPermutation(self, n: int, k: int) -> str:\n",
    "        ans = ''\n",
    "        digits = [i for i in range(1,n+1)]\n",
    "        for i in range(n-1,-1,-1):\n",
    "            curBase = math.factorial(i)\n",
    "            curIndex = (k-1) // curBase\n",
    "            ans += str(digits[curIndex])\n",
    "            digits.remove(digits[curIndex])\n",
    "            k = k - curIndex * curBase\n",
    "\n",
    "        return ans"
   ]
  }
 ],
 "metadata": {
  "interpreter": {
   "hash": "40d3a090f54c6569ab1632332b64b2c03c39dcf918b08424e98f38b5ae0af88f"
  },
  "kernelspec": {
   "display_name": "Python 3.8.8 ('base')",
   "language": "python",
   "name": "python3"
  },
  "language_info": {
   "name": "python",
   "version": "3.8.8"
  },
  "orig_nbformat": 4
 },
 "nbformat": 4,
 "nbformat_minor": 2
}
