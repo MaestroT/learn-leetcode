{
 "cells": [
  {
   "cell_type": "markdown",
   "source": [
    "## Swap Nodes in Pairs\n",
    "Given a linked list, swap every two adjacent nodes and return its head.\n",
    "\n",
    "You may not modify the values in the list's nodes, only nodes itself may be changed.\n",
    "\n",
    "- 1-2-3-4\n",
    "- 2-1-4-3"
   ],
   "metadata": {}
  },
  {
   "cell_type": "code",
   "execution_count": null,
   "source": [
    "class ListNode:\n",
    "    def __init__(self, x):\n",
    "        self.val = x\n",
    "        self.next = None\n",
    "\n",
    "def swapPairs(head:ListNode):\n",
    "    if not head or not head.next:\n",
    "        return head\n",
    "\n",
    "    p = head \n",
    "    new_start = p.next\n",
    "\n",
    "    while(True):\n",
    "        q = p.next\n",
    "        temp = q.next\n",
    "\n",
    "        q.next = p\n",
    "\n",
    "        if not temp or not temp.next:\n",
    "            p.next = temp\n",
    "            break\n",
    "        p.next = temp.next\n",
    "        p = temp\n",
    "\n",
    "    return new_start"
   ],
   "outputs": [],
   "metadata": {}
  }
 ],
 "metadata": {
  "orig_nbformat": 4,
  "language_info": {
   "name": "python"
  }
 },
 "nbformat": 4,
 "nbformat_minor": 2
}