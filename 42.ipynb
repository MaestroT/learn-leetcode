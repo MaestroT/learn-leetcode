{
 "cells": [
  {
   "cell_type": "markdown",
   "metadata": {},
   "source": [
    "## 42. 接雨水\n",
    "给定 n 个非负整数表示每个宽度为 1 的柱子的高度图，计算按此排列的柱子，下雨之后能接多少雨水。\n",
    "\n",
    "输入：height = [0,1,0,2,1,0,1,3,2,1,2,1]\n",
    "输出：6\n",
    "解释：上面是由数组 [0,1,0,2,1,0,1,3,2,1,2,1] 表示的高度图，在这种情况下，可以接 6 个单位的雨水（蓝色部分表示雨水）。 \n",
    "示例 2：\n",
    "\n",
    "输入：height = [4,2,0,3,2,5]\n",
    "输出：9\n",
    " \n",
    "\n",
    "提示：\n",
    "\n",
    "n == height.length\n",
    "1 <= n <= 2 * 104\n",
    "0 <= height[i] <= 105\n",
    "\n",
    "来源：力扣（LeetCode）\n",
    "链接：https://leetcode-cn.com/problems/trapping-rain-water"
   ]
  },
  {
   "cell_type": "code",
   "execution_count": 6,
   "metadata": {},
   "outputs": [],
   "source": [
    "class Solution:\n",
    "    def trap(self, height) -> int:\n",
    "        if len(height) == 0 or max(height) == 0:\n",
    "            return 0\n",
    "        self.res = 0\n",
    "        maxH = max(height)\n",
    "        index = height.index(maxH)\n",
    "        self.area(height[:index])\n",
    "        self.area(height[index+1:][::-1])\n",
    "        return self.res\n",
    "\n",
    "    # 迭代函数\n",
    "    def area(self, h):\n",
    "        if len(h) == 0 or max(h) == 0:\n",
    "            return\n",
    "        maxH = max(h)\n",
    "        index = h.index(maxH)\n",
    "        self.res += maxH*(len(h)-1-index) - sum(h[index+1:])\n",
    "        self.area(h[:index])"
   ]
  }
 ],
 "metadata": {
  "interpreter": {
   "hash": "40d3a090f54c6569ab1632332b64b2c03c39dcf918b08424e98f38b5ae0af88f"
  },
  "kernelspec": {
   "display_name": "Python 3.8.8 64-bit ('base': conda)",
   "language": "python",
   "name": "python3"
  },
  "language_info": {
   "codemirror_mode": {
    "name": "ipython",
    "version": 3
   },
   "file_extension": ".py",
   "mimetype": "text/x-python",
   "name": "python",
   "nbconvert_exporter": "python",
   "pygments_lexer": "ipython3",
   "version": "3.8.8"
  },
  "orig_nbformat": 4
 },
 "nbformat": 4,
 "nbformat_minor": 2
}
