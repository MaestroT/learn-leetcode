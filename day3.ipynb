{
 "cells": [
  {
   "cell_type": "markdown",
   "source": [
    "## Longest Palindromic Substring\n",
    "Given a string s, find the longest palindromic substring in s. You may assume that the maximum length of s is 1000.\n",
    "- input \"babad\"\n",
    "- output \"bab\"\n",
    "- \"aba\" is also a valid answer"
   ],
   "metadata": {}
  },
  {
   "cell_type": "code",
   "execution_count": 1,
   "source": [
    "def longestPalindrome(s):\n",
    "    palindrome = ''\n",
    "\n",
    "    for i in range(len(s)):\n",
    "        len1 = len(getlongestpalindrome(s, i, i))\n",
    "\n",
    "        if len1 > len(palindrome):\n",
    "            palindrome = getlongestpalindrome(s, i, i)\n",
    "\n",
    "        len2 = len(getlongestpalindrome(s, i, i+1))\n",
    "\n",
    "        if len2 > len(palindrome):\n",
    "            palindrome = getlongestpalindrome(s, i, i+1)\n",
    "\n",
    "    return palindrome\n",
    "\n",
    "def getlongestpalindrome(s, l, r):\n",
    "    while l >= 0 and r < len(s) and s[l] == s[r]:\n",
    "        l = l - 1\n",
    "        r = r + 1\n",
    "    return s[l+1 : r] "
   ],
   "outputs": [],
   "metadata": {}
  },
  {
   "cell_type": "markdown",
   "source": [
    "### ZigZag Conversion\n",
    "The string \"PAYPALISHIRING\" is written in a zigzag pattern on a given number of rows like this: (you may want to display this pattern in a fixed font for better legibility)\n",
    "\n",
    "- P   A   H   N\n",
    "- A P L S I I G\n",
    "- Y   I   R\n",
    "\n",
    "And then read line by line: \"PAHNAPLSIIGYIR\"\n",
    "\n",
    "Write the code that will take a string and make this conversion given a number of rows:\n",
    "\n",
    "string convert(string text, int nRows);\n",
    "convert(\"PAYPALISHIRING\", 3) should return \"PAHNAPLSIIGYIR\"."
   ],
   "metadata": {}
  },
  {
   "cell_type": "code",
   "execution_count": 2,
   "source": [
    "def convert(s, numRows):\n",
    "    if(numRows==1) or (numRows>=len(s)):\n",
    "        return s\n",
    "    index=0\n",
    "    step=1\n",
    "    L=['']*numRows #行数\n",
    "    \n",
    "    for x in s:\n",
    "        L[index]=L[index]+x\n",
    "        if index==0:\n",
    "            step=1\n",
    "        elif index==numRows-1:\n",
    "            step=-1\n",
    "        index=index+step\n",
    "    return ''.join(L)\n",
    "    \n",
    "s=\"PAYPALISHIRING\"\n",
    "numRows=4\n",
    "print(convert(s, numRows))\n",
    "'''\n",
    "如果index=0，那么step则为1\n",
    "如果index不为0且index+1不等于numRows，那么index递增\n",
    "如果index+1=numRows，step跳转为-1\n",
    "最终我们将L数组中的L[0],L[1],L[2],L[3]用join函数进行拼接，得到最终结果\n",
    "'''"
   ],
   "outputs": [
    {
     "output_type": "stream",
     "name": "stdout",
     "text": [
      "PINALSIGYAHRPI\n"
     ]
    }
   ],
   "metadata": {}
  },
  {
   "cell_type": "code",
   "execution_count": null,
   "source": [],
   "outputs": [],
   "metadata": {}
  }
 ],
 "metadata": {
  "orig_nbformat": 4,
  "language_info": {
   "name": "python",
   "version": "3.8.2",
   "mimetype": "text/x-python",
   "codemirror_mode": {
    "name": "ipython",
    "version": 3
   },
   "pygments_lexer": "ipython3",
   "nbconvert_exporter": "python",
   "file_extension": ".py"
  },
  "kernelspec": {
   "name": "python3",
   "display_name": "Python 3.8.2 64-bit"
  },
  "interpreter": {
   "hash": "31f2aee4e71d21fbe5cf8b01ff0e069b9275f58929596ceb00d14d90e3e16cd6"
  }
 },
 "nbformat": 4,
 "nbformat_minor": 2
}